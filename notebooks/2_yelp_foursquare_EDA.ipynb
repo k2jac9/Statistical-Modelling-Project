{
 "cells": [
  {
   "cell_type": "markdown",
   "metadata": {},
   "source": [
    "Import required libraries\n"
   ]
  },
  {
   "cell_type": "code",
   "execution_count": 1,
   "metadata": {},
   "outputs": [],
   "source": [
    "import os\n",
    "import pandas as pd\n",
    "import json\n",
    "import requests\n",
    "import folium\n",
    "from tqdm import tqdm\n"
   ]
  },
  {
   "cell_type": "markdown",
   "metadata": {},
   "source": [
    "#### Load stations dataframe\n"
   ]
  },
  {
   "cell_type": "code",
   "execution_count": 2,
   "metadata": {},
   "outputs": [],
   "source": [
    "stations_df = pd.read_csv('../data/stations.csv')\n"
   ]
  },
  {
   "cell_type": "markdown",
   "metadata": {},
   "source": [
    "# Foursquare\n"
   ]
  },
  {
   "cell_type": "markdown",
   "metadata": {},
   "source": [
    "Send a request to Foursquare with a small radius (1000m) for all the bike stations in your city of choice.\n"
   ]
  },
  {
   "cell_type": "markdown",
   "metadata": {},
   "source": [
    "### Foursquare iteration over bike tations\n"
   ]
  },
  {
   "cell_type": "code",
   "execution_count": 3,
   "metadata": {},
   "outputs": [],
   "source": [
    "# Constants\n",
    "FSQ_API_URL = \"https://api.foursquare.com/v3/places/search\"\n",
    "\n",
    "\n",
    "def get_nearby_poi(latitude, longitude, radius=1000, open_now=True):\n",
    "    \"\"\"\n",
    "    Retrieves nearby points of interest using Foursquare API.\n",
    "\n",
    "    Args:\n",
    "    latitude (float): Latitude of the location.\n",
    "    longitude (float): Longitude of the location.\n",
    "    radius (int, optional): Search radius in meters. Default is 1000.\n",
    "    open_now (bool, optional): Whether to search only for places that are open now. Default is True.\n",
    "    sort (str, optional): Sorting method of the results. Default is 'DISTANCE'.\n",
    "\n",
    "    Returns:\n",
    "    list: A list of dictionaries with POI information.\n",
    "\n",
    "    Raises:\n",
    "    Exception: If the API request fails.\n",
    "    \"\"\"\n",
    "    params = {\n",
    "        \"radius\": str(radius),\n",
    "        \"ll\": f\"{latitude},{longitude}\",\n",
    "        \"open_now\": \"true\" if open_now else \"false\"\n",
    "    }\n",
    "\n",
    "    # Securely load the API key\n",
    "    api_key = os.getenv('FSQ_key')\n",
    "    if not api_key:\n",
    "        raise Exception(\"API key not found\")\n",
    "\n",
    "    headers = {\n",
    "        \"Accept\": \"application/json\",\n",
    "        \"Authorization\": api_key\n",
    "    }\n",
    "\n",
    "    try:\n",
    "        response = requests.get(FSQ_API_URL, params=params, headers=headers)\n",
    "        response.raise_for_status()\n",
    "        return json.loads(response.text)\n",
    "    except requests.RequestException as e:\n",
    "        raise Exception(f\"Error fetching data: {e}\")\n",
    "\n",
    "# Example usage\n",
    "# nearby_pois = get_nearby_poi(40.7128, -74.0060)\n"
   ]
  },
  {
   "cell_type": "markdown",
   "metadata": {},
   "source": [
    "Parse through the response to get the POI (such as restaurants, bars, etc) details you want (ratings, name, location, etc)\n"
   ]
  },
  {
   "cell_type": "markdown",
   "metadata": {},
   "source": [
    "### Create a dataframe named 'df_fspoi' that consolidates details of both stations and points of interest. This dataframe includes columns for station name, latitude, longitude, and usage, as well as columns for the name, distance, rating, and address of each point of interest\n"
   ]
  },
  {
   "cell_type": "code",
   "execution_count": 4,
   "metadata": {},
   "outputs": [
    {
     "name": "stderr",
     "output_type": "stream",
     "text": [
      "Processing Stations:   1%|          | 9/1462 [00:11<30:32,  1.26s/it]\n"
     ]
    }
   ],
   "source": [
    "def collect_nearby_poi_data(stations_df, max_responses=None):\n",
    "    df_fspoi = pd.DataFrame(columns=[\n",
    "                            'station', 'usage', 'total_bikes', 'poi_name', 'poi_distance', 'poi_address'])\n",
    "    rows_to_append = []\n",
    "    response_count = 0  # Keep track of the number of responses collected\n",
    "\n",
    "    for index, station in tqdm(stations_df.iterrows(), total=len(stations_df), desc=\"Processing Stations\"):\n",
    "        myjson = get_nearby_poi(station['latitude'], station['longitude'])\n",
    "        for business in myjson['results']:\n",
    "            fs_info_data = {\n",
    "                \"name\": business['name'],\n",
    "                \"distance\": business['distance'],\n",
    "                \"address\": business['location']['formatted_address']\n",
    "            }\n",
    "            row = [station['name'], station['usage_percentage'], station['total_bikes'], fs_info_data['name'],\n",
    "                   fs_info_data['distance'], fs_info_data['address']]\n",
    "            rows_to_append.append(row)\n",
    "            response_count += 1\n",
    "\n",
    "            if max_responses is not None and response_count >= max_responses:\n",
    "                return pd.DataFrame(rows_to_append, columns=df_fspoi.columns)\n",
    "\n",
    "    df_fspoi = pd.concat([df_fspoi, pd.DataFrame(\n",
    "        rows_to_append, columns=df_fspoi.columns)], ignore_index=True)\n",
    "\n",
    "    return df_fspoi\n",
    "\n",
    "\n",
    "# Limit to 100 responses\n",
    "df_fspoi = collect_nearby_poi_data(stations_df, max_responses=100)\n"
   ]
  },
  {
   "cell_type": "markdown",
   "metadata": {},
   "source": [
    "Put your parsed results into a DataFrame\n"
   ]
  },
  {
   "cell_type": "code",
   "execution_count": 5,
   "metadata": {
    "scrolled": false
   },
   "outputs": [
    {
     "data": {
      "text/html": [
       "<div>\n",
       "<style scoped>\n",
       "    .dataframe tbody tr th:only-of-type {\n",
       "        vertical-align: middle;\n",
       "    }\n",
       "\n",
       "    .dataframe tbody tr th {\n",
       "        vertical-align: top;\n",
       "    }\n",
       "\n",
       "    .dataframe thead th {\n",
       "        text-align: right;\n",
       "    }\n",
       "</style>\n",
       "<table border=\"1\" class=\"dataframe\">\n",
       "  <thead>\n",
       "    <tr style=\"text-align: right;\">\n",
       "      <th></th>\n",
       "      <th>station</th>\n",
       "      <th>usage</th>\n",
       "      <th>total_bikes</th>\n",
       "      <th>poi_name</th>\n",
       "      <th>poi_distance</th>\n",
       "      <th>poi_address</th>\n",
       "    </tr>\n",
       "  </thead>\n",
       "  <tbody>\n",
       "    <tr>\n",
       "      <th>0</th>\n",
       "      <td>Benjamin Godard - Victor Hugo</td>\n",
       "      <td>0.914286</td>\n",
       "      <td>35</td>\n",
       "      <td>Square Lamartine</td>\n",
       "      <td>94</td>\n",
       "      <td>3 Square Lamartine, 75016 Paris</td>\n",
       "    </tr>\n",
       "    <tr>\n",
       "      <th>1</th>\n",
       "      <td>Benjamin Godard - Victor Hugo</td>\n",
       "      <td>0.914286</td>\n",
       "      <td>35</td>\n",
       "      <td>Boulangerie Schou</td>\n",
       "      <td>122</td>\n",
       "      <td>96 rue de la Faisanderie (Rue Dufrénoy), 75016...</td>\n",
       "    </tr>\n",
       "    <tr>\n",
       "      <th>2</th>\n",
       "      <td>Benjamin Godard - Victor Hugo</td>\n",
       "      <td>0.914286</td>\n",
       "      <td>35</td>\n",
       "      <td>Le Zinc du 16</td>\n",
       "      <td>246</td>\n",
       "      <td>58 rue de la Faisanderie, 75116 Paris</td>\n",
       "    </tr>\n",
       "    <tr>\n",
       "      <th>3</th>\n",
       "      <td>Benjamin Godard - Victor Hugo</td>\n",
       "      <td>0.914286</td>\n",
       "      <td>35</td>\n",
       "      <td>Laboratoire Cohen Mme Vincent M.C</td>\n",
       "      <td>52</td>\n",
       "      <td>187 avenue Victor Hugo, 75116 Paris</td>\n",
       "    </tr>\n",
       "    <tr>\n",
       "      <th>4</th>\n",
       "      <td>Benjamin Godard - Victor Hugo</td>\n",
       "      <td>0.914286</td>\n",
       "      <td>35</td>\n",
       "      <td>Tabac Lamartine</td>\n",
       "      <td>52</td>\n",
       "      <td>178 avenue Victor Hugo, 75116 Paris</td>\n",
       "    </tr>\n",
       "    <tr>\n",
       "      <th>...</th>\n",
       "      <td>...</td>\n",
       "      <td>...</td>\n",
       "      <td>...</td>\n",
       "      <td>...</td>\n",
       "      <td>...</td>\n",
       "      <td>...</td>\n",
       "    </tr>\n",
       "    <tr>\n",
       "      <th>95</th>\n",
       "      <td>Jouffroy d'Abbans - Wagram</td>\n",
       "      <td>0.815789</td>\n",
       "      <td>38</td>\n",
       "      <td>Le Central</td>\n",
       "      <td>144</td>\n",
       "      <td>65 rue de Prony (Rue Jouffroy-d'Abbans), 75017...</td>\n",
       "    </tr>\n",
       "    <tr>\n",
       "      <th>96</th>\n",
       "      <td>Jouffroy d'Abbans - Wagram</td>\n",
       "      <td>0.815789</td>\n",
       "      <td>38</td>\n",
       "      <td>Eyal LEVY</td>\n",
       "      <td>101</td>\n",
       "      <td>4 rue Théodore de Banville, 75017 Paris</td>\n",
       "    </tr>\n",
       "    <tr>\n",
       "      <th>97</th>\n",
       "      <td>Jouffroy d'Abbans - Wagram</td>\n",
       "      <td>0.815789</td>\n",
       "      <td>38</td>\n",
       "      <td>Clinique vétérinaire Wagranville</td>\n",
       "      <td>101</td>\n",
       "      <td>4 rue Th\\u00e9odore de Banville, 75017 Paris</td>\n",
       "    </tr>\n",
       "    <tr>\n",
       "      <th>98</th>\n",
       "      <td>Jouffroy d'Abbans - Wagram</td>\n",
       "      <td>0.815789</td>\n",
       "      <td>38</td>\n",
       "      <td>Brasserie le Diplomate</td>\n",
       "      <td>367</td>\n",
       "      <td>110 boulevard de Courcelles, 75017 Paris</td>\n",
       "    </tr>\n",
       "    <tr>\n",
       "      <th>99</th>\n",
       "      <td>Jouffroy d'Abbans - Wagram</td>\n",
       "      <td>0.815789</td>\n",
       "      <td>38</td>\n",
       "      <td>Carrefour City</td>\n",
       "      <td>208</td>\n",
       "      <td>85 rue Jouffroy d'Abbans, 75017 Paris</td>\n",
       "    </tr>\n",
       "  </tbody>\n",
       "</table>\n",
       "<p>100 rows × 6 columns</p>\n",
       "</div>"
      ],
      "text/plain": [
       "                          station     usage  total_bikes  \\\n",
       "0   Benjamin Godard - Victor Hugo  0.914286           35   \n",
       "1   Benjamin Godard - Victor Hugo  0.914286           35   \n",
       "2   Benjamin Godard - Victor Hugo  0.914286           35   \n",
       "3   Benjamin Godard - Victor Hugo  0.914286           35   \n",
       "4   Benjamin Godard - Victor Hugo  0.914286           35   \n",
       "..                            ...       ...          ...   \n",
       "95     Jouffroy d'Abbans - Wagram  0.815789           38   \n",
       "96     Jouffroy d'Abbans - Wagram  0.815789           38   \n",
       "97     Jouffroy d'Abbans - Wagram  0.815789           38   \n",
       "98     Jouffroy d'Abbans - Wagram  0.815789           38   \n",
       "99     Jouffroy d'Abbans - Wagram  0.815789           38   \n",
       "\n",
       "                             poi_name  poi_distance  \\\n",
       "0                    Square Lamartine            94   \n",
       "1                   Boulangerie Schou           122   \n",
       "2                       Le Zinc du 16           246   \n",
       "3   Laboratoire Cohen Mme Vincent M.C            52   \n",
       "4                     Tabac Lamartine            52   \n",
       "..                                ...           ...   \n",
       "95                         Le Central           144   \n",
       "96                          Eyal LEVY           101   \n",
       "97   Clinique vétérinaire Wagranville           101   \n",
       "98             Brasserie le Diplomate           367   \n",
       "99                     Carrefour City           208   \n",
       "\n",
       "                                          poi_address  \n",
       "0                     3 Square Lamartine, 75016 Paris  \n",
       "1   96 rue de la Faisanderie (Rue Dufrénoy), 75016...  \n",
       "2               58 rue de la Faisanderie, 75116 Paris  \n",
       "3                 187 avenue Victor Hugo, 75116 Paris  \n",
       "4                 178 avenue Victor Hugo, 75116 Paris  \n",
       "..                                                ...  \n",
       "95  65 rue de Prony (Rue Jouffroy-d'Abbans), 75017...  \n",
       "96            4 rue Théodore de Banville, 75017 Paris  \n",
       "97       4 rue Th\\u00e9odore de Banville, 75017 Paris  \n",
       "98           110 boulevard de Courcelles, 75017 Paris  \n",
       "99              85 rue Jouffroy d'Abbans, 75017 Paris  \n",
       "\n",
       "[100 rows x 6 columns]"
      ]
     },
     "execution_count": 5,
     "metadata": {},
     "output_type": "execute_result"
    }
   ],
   "source": [
    "df_fspoi\n"
   ]
  },
  {
   "cell_type": "code",
   "execution_count": 6,
   "metadata": {},
   "outputs": [],
   "source": [
    "# I'm saving the dataframe to CSV for the next section\n",
    "df_fspoi.to_csv('../data/fsq_poi.csv', index=False)\n"
   ]
  },
  {
   "cell_type": "code",
   "execution_count": 7,
   "metadata": {},
   "outputs": [
    {
     "data": {
      "text/plain": [
       "(100, 6)"
      ]
     },
     "execution_count": 7,
     "metadata": {},
     "output_type": "execute_result"
    }
   ],
   "source": [
    "df_fspoi.shape\n"
   ]
  },
  {
   "cell_type": "code",
   "execution_count": 8,
   "metadata": {},
   "outputs": [
    {
     "data": {
      "text/plain": [
       "<bound method DataFrame.info of                           station     usage  total_bikes  \\\n",
       "0   Benjamin Godard - Victor Hugo  0.914286           35   \n",
       "1   Benjamin Godard - Victor Hugo  0.914286           35   \n",
       "2   Benjamin Godard - Victor Hugo  0.914286           35   \n",
       "3   Benjamin Godard - Victor Hugo  0.914286           35   \n",
       "4   Benjamin Godard - Victor Hugo  0.914286           35   \n",
       "..                            ...       ...          ...   \n",
       "95     Jouffroy d'Abbans - Wagram  0.815789           38   \n",
       "96     Jouffroy d'Abbans - Wagram  0.815789           38   \n",
       "97     Jouffroy d'Abbans - Wagram  0.815789           38   \n",
       "98     Jouffroy d'Abbans - Wagram  0.815789           38   \n",
       "99     Jouffroy d'Abbans - Wagram  0.815789           38   \n",
       "\n",
       "                             poi_name  poi_distance  \\\n",
       "0                    Square Lamartine            94   \n",
       "1                   Boulangerie Schou           122   \n",
       "2                       Le Zinc du 16           246   \n",
       "3   Laboratoire Cohen Mme Vincent M.C            52   \n",
       "4                     Tabac Lamartine            52   \n",
       "..                                ...           ...   \n",
       "95                         Le Central           144   \n",
       "96                          Eyal LEVY           101   \n",
       "97   Clinique vétérinaire Wagranville           101   \n",
       "98             Brasserie le Diplomate           367   \n",
       "99                     Carrefour City           208   \n",
       "\n",
       "                                          poi_address  \n",
       "0                     3 Square Lamartine, 75016 Paris  \n",
       "1   96 rue de la Faisanderie (Rue Dufrénoy), 75016...  \n",
       "2               58 rue de la Faisanderie, 75116 Paris  \n",
       "3                 187 avenue Victor Hugo, 75116 Paris  \n",
       "4                 178 avenue Victor Hugo, 75116 Paris  \n",
       "..                                                ...  \n",
       "95  65 rue de Prony (Rue Jouffroy-d'Abbans), 75017...  \n",
       "96            4 rue Théodore de Banville, 75017 Paris  \n",
       "97       4 rue Th\\u00e9odore de Banville, 75017 Paris  \n",
       "98           110 boulevard de Courcelles, 75017 Paris  \n",
       "99              85 rue Jouffroy d'Abbans, 75017 Paris  \n",
       "\n",
       "[100 rows x 6 columns]>"
      ]
     },
     "execution_count": 8,
     "metadata": {},
     "output_type": "execute_result"
    }
   ],
   "source": [
    "df_fspoi.info\n"
   ]
  },
  {
   "cell_type": "code",
   "execution_count": 9,
   "metadata": {},
   "outputs": [
    {
     "name": "stdout",
     "output_type": "stream",
     "text": [
      "<class 'pandas.core.frame.DataFrame'>\n",
      "RangeIndex: 100 entries, 0 to 99\n",
      "Data columns (total 6 columns):\n",
      " #   Column        Non-Null Count  Dtype  \n",
      "---  ------        --------------  -----  \n",
      " 0   station       100 non-null    object \n",
      " 1   usage         100 non-null    float64\n",
      " 2   total_bikes   100 non-null    int64  \n",
      " 3   poi_name      100 non-null    object \n",
      " 4   poi_distance  100 non-null    int64  \n",
      " 5   poi_address   100 non-null    object \n",
      "dtypes: float64(1), int64(2), object(3)\n",
      "memory usage: 4.8+ KB\n"
     ]
    }
   ],
   "source": [
    "df_fspoi.info()\n"
   ]
  },
  {
   "cell_type": "markdown",
   "metadata": {},
   "source": [
    "Checking for Null Values\n"
   ]
  },
  {
   "cell_type": "code",
   "execution_count": 10,
   "metadata": {},
   "outputs": [
    {
     "name": "stdout",
     "output_type": "stream",
     "text": [
      "station         0\n",
      "usage           0\n",
      "total_bikes     0\n",
      "poi_name        0\n",
      "poi_distance    0\n",
      "poi_address     0\n",
      "dtype: int64\n"
     ]
    }
   ],
   "source": [
    "print(df_fspoi.isnull().sum())\n"
   ]
  },
  {
   "cell_type": "markdown",
   "metadata": {},
   "source": [
    "# Yelp\n"
   ]
  },
  {
   "cell_type": "markdown",
   "metadata": {},
   "source": [
    "Send a request to Yelp with a small radius (1000m) for all the bike stations in your city of choice.\n"
   ]
  },
  {
   "cell_type": "code",
   "execution_count": 11,
   "metadata": {},
   "outputs": [],
   "source": [
    "def get_nearby_yelp(latitude, longitude):\n",
    "\n",
    "    # Define my API Key, My Endpoint, and My Header\n",
    "    API_KEY = os.getenv('YELP_key')\n",
    "    ENDPOINT = 'https://api.yelp.com/v3/businesses/search'\n",
    "    HEADERS = {'Authorization': 'bearer %s' % API_KEY}\n",
    "\n",
    "    # BUSINESS SEARCH PARAMETERS\n",
    "    PARAMETERS = {'latitude': f\"{latitude}\",\n",
    "                  'longitude': f\"{longitude}\",\n",
    "                  'radius': 1000}\n",
    "\n",
    "    # Make a request to the Yelp API\n",
    "    response = requests.get(url=ENDPOINT,\n",
    "                            params=PARAMETERS,\n",
    "                            headers=HEADERS)\n",
    "\n",
    "    yelp_data = response.json()\n",
    "\n",
    "    return yelp_data\n"
   ]
  },
  {
   "cell_type": "markdown",
   "metadata": {},
   "source": [
    "Parse through the response to get the POI (such as restaurants, bars, etc) details you want (ratings, name, location, etc)\n"
   ]
  },
  {
   "cell_type": "code",
   "execution_count": 12,
   "metadata": {},
   "outputs": [
    {
     "name": "stderr",
     "output_type": "stream",
     "text": [
      "Processing Stations:   0%|          | 1/1462 [00:00<10:48,  2.25it/s]"
     ]
    },
    {
     "name": "stdout",
     "output_type": "stream",
     "text": [
      "{'businesses': [{'id': 'WHHt_Jb8Tgidn9mW7oDnIg', 'alias': 'la-coïncidence-paris-4', 'name': 'La Coïncidence', 'image_url': 'https://s3-media3.fl.yelpcdn.com/bphoto/JIS7KFrJpPLjxAT-Zpe4Lg/o.jpg', 'is_closed': False, 'url': 'https://www.yelp.com/biz/la-co%C3%AFncidence-paris-4?adjust_creative=v58aGL3xcKISGlGiUDxxtg&utm_campaign=yelp_api_v3&utm_medium=api_v3_business_search&utm_source=v58aGL3xcKISGlGiUDxxtg', 'review_count': 509, 'categories': [{'alias': 'french', 'title': 'French'}], 'rating': 4.5, 'coordinates': {'latitude': 48.868105, 'longitude': 2.284365}, 'transactions': [], 'price': '€€', 'location': {'address1': '15 rue Mesnil', 'address2': '', 'address3': '', 'city': 'Paris', 'zip_code': '75116', 'country': 'FR', 'state': '75', 'display_address': ['15 rue Mesnil', '75116 Paris', 'France']}, 'phone': '+33147559644', 'display_phone': '+33 1 47 55 96 44', 'distance': 674.5838847008364}, {'id': '9Dg5IhmhqeQhriJfMeNZ3g', 'alias': 'le-poincaré-paris-2', 'name': 'Le Poincaré', 'image_url': 'https://s3-media1.fl.yelpcdn.com/bphoto/sye-BEyXW_RBYfpyEPEh5Q/o.jpg', 'is_closed': False, 'url': 'https://www.yelp.com/biz/le-poincar%C3%A9-paris-2?adjust_creative=v58aGL3xcKISGlGiUDxxtg&utm_campaign=yelp_api_v3&utm_medium=api_v3_business_search&utm_source=v58aGL3xcKISGlGiUDxxtg', 'review_count': 153, 'categories': [{'alias': 'french', 'title': 'French'}, {'alias': 'brasseries', 'title': 'Brasseries'}, {'alias': 'wine_bars', 'title': 'Wine Bars'}], 'rating': 4.0, 'coordinates': {'latitude': 48.8650573, 'longitude': 2.2865211}, 'transactions': [], 'price': '€€', 'location': {'address1': '22 avenue Raymond Poincaré', 'address2': None, 'address3': None, 'city': 'Paris', 'zip_code': '75116', 'country': 'FR', 'state': '75', 'display_address': ['22 avenue Raymond Poincaré', '75116 Paris', 'France']}, 'phone': '+33145054610', 'display_phone': '+33 1 45 05 46 10', 'distance': 796.3837457247423}, {'id': 'PNB90Gp1RoskMrDKYL-BrA', 'alias': 'l-astrance-paris', 'name': \"L'Astrance\", 'image_url': 'https://s3-media3.fl.yelpcdn.com/bphoto/BWyV4wL9sac8gDVRnBqPYw/o.jpg', 'is_closed': False, 'url': 'https://www.yelp.com/biz/l-astrance-paris?adjust_creative=v58aGL3xcKISGlGiUDxxtg&utm_campaign=yelp_api_v3&utm_medium=api_v3_business_search&utm_source=v58aGL3xcKISGlGiUDxxtg', 'review_count': 64, 'categories': [{'alias': 'french', 'title': 'French'}], 'rating': 4.5, 'coordinates': {'latitude': 48.85844, 'longitude': 2.28734}, 'transactions': [], 'price': '€€€€', 'location': {'address1': '4 rue Beethoven', 'address2': '', 'address3': '', 'city': 'Paris', 'zip_code': '75016', 'country': 'FR', 'state': '75', 'display_address': ['4 rue Beethoven', '75016 Paris', 'France']}, 'phone': '+33140508440', 'display_phone': '+33 1 40 50 84 40', 'distance': 1193.9057475548866}, {'id': 'DLSXsYaVXH06IVc_UmTi9A', 'alias': 'crêperie-framboise-passy-trocadéro-paris-4', 'name': 'Crêperie Framboise Passy-Trocadéro', 'image_url': 'https://s3-media1.fl.yelpcdn.com/bphoto/rbP4yQPjMbd4A-xkmSQdnA/o.jpg', 'is_closed': False, 'url': 'https://www.yelp.com/biz/cr%C3%AAperie-framboise-passy-trocad%C3%A9ro-paris-4?adjust_creative=v58aGL3xcKISGlGiUDxxtg&utm_campaign=yelp_api_v3&utm_medium=api_v3_business_search&utm_source=v58aGL3xcKISGlGiUDxxtg', 'review_count': 65, 'categories': [{'alias': 'creperies', 'title': 'Creperies'}, {'alias': 'gluten_free', 'title': 'Gluten-Free'}], 'rating': 4.5, 'coordinates': {'latitude': 48.8588295, 'longitude': 2.2850399}, 'transactions': [], 'price': '€€', 'location': {'address1': '10 bd Delessert', 'address2': None, 'address3': '', 'city': 'Paris', 'zip_code': '75016', 'country': 'FR', 'state': '75', 'display_address': ['10 bd Delessert', '75016 Paris', 'France']}, 'phone': '+33145204717', 'display_phone': '+33 1 45 20 47 17', 'distance': 1046.4233954289314}, {'id': '-Df0MVdm7yOvsVX8IfB20Q', 'alias': 'sgabetti-paris', 'name': 'Sgabetti', 'image_url': 'https://s3-media3.fl.yelpcdn.com/bphoto/f1ecZ6XTyIRGhPbfDy8ktQ/o.jpg', 'is_closed': False, 'url': 'https://www.yelp.com/biz/sgabetti-paris?adjust_creative=v58aGL3xcKISGlGiUDxxtg&utm_campaign=yelp_api_v3&utm_medium=api_v3_business_search&utm_source=v58aGL3xcKISGlGiUDxxtg', 'review_count': 40, 'categories': [{'alias': 'italian', 'title': 'Italian'}], 'rating': 4.5, 'coordinates': {'latitude': 48.865831, 'longitude': 2.283666}, 'transactions': [], 'price': '€€', 'location': {'address1': '15 rue Sablons', 'address2': '', 'address3': None, 'city': 'Paris', 'zip_code': '75016', 'country': 'FR', 'state': '75', 'display_address': ['15 rue Sablons', '75016 Paris', 'France']}, 'phone': '+33147040927', 'display_phone': '+33 1 47 04 09 27', 'distance': 581.1026607755947}, {'id': 'Xip_9jPAlsSd1AY5FW-TAw', 'alias': 'hiramatsu-paris', 'name': 'Hiramatsu', 'image_url': 'https://s3-media3.fl.yelpcdn.com/bphoto/BGA26OxE75bakbonnsT8qA/o.jpg', 'is_closed': False, 'url': 'https://www.yelp.com/biz/hiramatsu-paris?adjust_creative=v58aGL3xcKISGlGiUDxxtg&utm_campaign=yelp_api_v3&utm_medium=api_v3_business_search&utm_source=v58aGL3xcKISGlGiUDxxtg', 'review_count': 32, 'categories': [{'alias': 'french', 'title': 'French'}], 'rating': 4.5, 'coordinates': {'latitude': 48.86507, 'longitude': 2.28751}, 'transactions': [], 'price': '€€€€', 'location': {'address1': '52 rue de Longchamp', 'address2': None, 'address3': None, 'city': 'Paris', 'zip_code': '75016', 'country': 'FR', 'state': '75', 'display_address': ['52 rue de Longchamp', '75016 Paris', 'France']}, 'phone': '+33156810880', 'display_phone': '+33 1 56 81 08 80', 'distance': 867.9961201115074}, {'id': '5TbITr_zImkiSc_EWOJkjw', 'alias': 'girafe-paris', 'name': 'Girafe', 'image_url': 'https://s3-media2.fl.yelpcdn.com/bphoto/sDK6GuAULAITEbEq0U1umA/o.jpg', 'is_closed': False, 'url': 'https://www.yelp.com/biz/girafe-paris?adjust_creative=v58aGL3xcKISGlGiUDxxtg&utm_campaign=yelp_api_v3&utm_medium=api_v3_business_search&utm_source=v58aGL3xcKISGlGiUDxxtg', 'review_count': 125, 'categories': [{'alias': 'french', 'title': 'French'}, {'alias': 'seafood', 'title': 'Seafood'}], 'rating': 3.5, 'coordinates': {'latitude': 48.862584, 'longitude': 2.2885815}, 'transactions': [], 'price': '€€€€', 'location': {'address1': '1 place du Trocadéro', 'address2': '', 'address3': 'Palais de Chaillot', 'city': 'Paris', 'zip_code': '75016', 'country': 'FR', 'state': '75', 'display_address': ['1 place du Trocadéro', 'Palais de Chaillot', '75016 Paris', 'France']}, 'phone': '+33140627061', 'display_phone': '+33 1 40 62 70 61', 'distance': 1013.5447681914775}, {'id': '2KKeZ4nX20tWG1DGYTq85w', 'alias': 'le-pergolèse-paris-3', 'name': 'Le Pergolèse', 'image_url': 'https://s3-media1.fl.yelpcdn.com/bphoto/22bu2lZv4ElQ-LJ3E2zQGQ/o.jpg', 'is_closed': False, 'url': 'https://www.yelp.com/biz/le-pergol%C3%A8se-paris-3?adjust_creative=v58aGL3xcKISGlGiUDxxtg&utm_campaign=yelp_api_v3&utm_medium=api_v3_business_search&utm_source=v58aGL3xcKISGlGiUDxxtg', 'review_count': 48, 'categories': [{'alias': 'french', 'title': 'French'}], 'rating': 4.5, 'coordinates': {'latitude': 48.87439, 'longitude': 2.28289}, 'transactions': [], 'price': '€€', 'location': {'address1': '40 rue Pergolèse', 'address2': None, 'address3': None, 'city': 'Paris', 'zip_code': '75016', 'country': 'FR', 'state': '75', 'display_address': ['40 rue Pergolèse', '75016 Paris', 'France']}, 'phone': '+33145002140', 'display_phone': '+33 1 45 00 21 40', 'distance': 1071.6842920477702}, {'id': 'AOdAHOD8oghNdf1i7WpWzA', 'alias': 'bon-paris-6', 'name': 'Bon', 'image_url': 'https://s3-media2.fl.yelpcdn.com/bphoto/kHvcijwSjTbGbfg5Yjs7vw/o.jpg', 'is_closed': False, 'url': 'https://www.yelp.com/biz/bon-paris-6?adjust_creative=v58aGL3xcKISGlGiUDxxtg&utm_campaign=yelp_api_v3&utm_medium=api_v3_business_search&utm_source=v58aGL3xcKISGlGiUDxxtg', 'review_count': 120, 'categories': [{'alias': 'french', 'title': 'French'}, {'alias': 'panasian', 'title': 'Pan Asian'}], 'rating': 4.0, 'coordinates': {'latitude': 48.86018, 'longitude': 2.2749799}, 'transactions': [], 'price': '€€€€', 'location': {'address1': '25 rue de la Pompe', 'address2': '', 'address3': '', 'city': 'Paris', 'zip_code': '75116', 'country': 'FR', 'state': '75', 'display_address': ['25 rue de la Pompe', '75116 Paris', 'France']}, 'phone': '+33140727000', 'display_phone': '+33 1 40 72 70 00', 'distance': 646.7876338266634}, {'id': 'pJbmuCS72DngAKWnS_3Saw', 'alias': 'le-chalet-paris', 'name': 'Le Chalet', 'image_url': 'https://s3-media2.fl.yelpcdn.com/bphoto/fifWvjuthjjIPoLep3tevQ/o.jpg', 'is_closed': False, 'url': 'https://www.yelp.com/biz/le-chalet-paris?adjust_creative=v58aGL3xcKISGlGiUDxxtg&utm_campaign=yelp_api_v3&utm_medium=api_v3_business_search&utm_source=v58aGL3xcKISGlGiUDxxtg', 'review_count': 9, 'categories': [{'alias': 'french', 'title': 'French'}], 'rating': 4.0, 'coordinates': {'latitude': 48.86289342, 'longitude': 2.27634616}, 'transactions': [], 'price': '€€€', 'location': {'address1': '63 rue de la Pompe', 'address2': '', 'address3': '', 'city': 'Paris', 'zip_code': '75116', 'country': 'FR', 'state': '75', 'display_address': ['63 rue de la Pompe', '75116 Paris', 'France']}, 'phone': '+33145043407', 'display_phone': '+33 1 45 04 34 07', 'distance': 337.5556365086247}, {'id': 'AcUGp5j1aOHzZfLDspI13Q', 'alias': 'la-petite-tour-paris', 'name': 'La Petite Tour', 'image_url': 'https://s3-media4.fl.yelpcdn.com/bphoto/gsIb4zglYos1MkGBlxgo9A/o.jpg', 'is_closed': False, 'url': 'https://www.yelp.com/biz/la-petite-tour-paris?adjust_creative=v58aGL3xcKISGlGiUDxxtg&utm_campaign=yelp_api_v3&utm_medium=api_v3_business_search&utm_source=v58aGL3xcKISGlGiUDxxtg', 'review_count': 22, 'categories': [{'alias': 'french', 'title': 'French'}], 'rating': 4.5, 'coordinates': {'latitude': 48.8591197309771, 'longitude': 2.28314827036138}, 'transactions': [], 'price': '€€€', 'location': {'address1': '11 rue de la Tour', 'address2': None, 'address3': None, 'city': 'Paris', 'zip_code': '75016', 'country': 'FR', 'state': '75', 'display_address': ['11 rue de la Tour', '75016 Paris', 'France']}, 'phone': '+33145200931', 'display_phone': '+33 1 45 20 09 31', 'distance': 936.6360133730419}, {'id': 'An8TG5GIb3qQxISGTPG6dQ', 'alias': 'le-petit-rétro-paris-2', 'name': 'Le Petit Rétro', 'image_url': 'https://s3-media2.fl.yelpcdn.com/bphoto/M2Gor4J5rFHyzqCTiubpFw/o.jpg', 'is_closed': False, 'url': 'https://www.yelp.com/biz/le-petit-r%C3%A9tro-paris-2?adjust_creative=v58aGL3xcKISGlGiUDxxtg&utm_campaign=yelp_api_v3&utm_medium=api_v3_business_search&utm_source=v58aGL3xcKISGlGiUDxxtg', 'review_count': 39, 'categories': [{'alias': 'bistros', 'title': 'Bistros'}], 'rating': 4.0, 'coordinates': {'latitude': 48.86885, 'longitude': 2.2848}, 'transactions': [], 'price': '€€€', 'location': {'address1': '5 Rue Mesnil', 'address2': '', 'address3': '', 'city': 'Paris', 'zip_code': '75116', 'country': 'FR', 'state': '75', 'display_address': ['5 Rue Mesnil', '75116 Paris', 'France']}, 'phone': '+33144050605', 'display_phone': '+33 1 44 05 06 05', 'distance': 736.370205183028}, {'id': 'GJQyyovyXoTjHVZ3e6ptyw', 'alias': 'frog-xvi-paris', 'name': 'Frog XVI', 'image_url': 'https://s3-media2.fl.yelpcdn.com/bphoto/df_9OU4vnRO61aVb4UFMmw/o.jpg', 'is_closed': False, 'url': 'https://www.yelp.com/biz/frog-xvi-paris?adjust_creative=v58aGL3xcKISGlGiUDxxtg&utm_campaign=yelp_api_v3&utm_medium=api_v3_business_search&utm_source=v58aGL3xcKISGlGiUDxxtg', 'review_count': 88, 'categories': [{'alias': 'gastropubs', 'title': 'Gastropubs'}], 'rating': 3.5, 'coordinates': {'latitude': 48.864863, 'longitude': 2.288216}, 'transactions': [], 'price': '€€', 'location': {'address1': '110 bis avenue Kléber', 'address2': '', 'address3': '', 'city': 'Paris', 'zip_code': '75116', 'country': 'FR', 'state': '75', 'display_address': ['110 bis avenue Kléber', '75116 Paris', 'France']}, 'phone': '+33147278888', 'display_phone': '+33 1 47 27 88 88', 'distance': 922.1309260194633}, {'id': 'nd-O8jfeAXuvHee3v5S6lA', 'alias': 'le-passy-paris', 'name': 'Le Passy', 'image_url': 'https://s3-media4.fl.yelpcdn.com/bphoto/PylMXkh_pA-FFTqU4w1YqQ/o.jpg', 'is_closed': False, 'url': 'https://www.yelp.com/biz/le-passy-paris?adjust_creative=v58aGL3xcKISGlGiUDxxtg&utm_campaign=yelp_api_v3&utm_medium=api_v3_business_search&utm_source=v58aGL3xcKISGlGiUDxxtg', 'review_count': 22, 'categories': [{'alias': 'french', 'title': 'French'}, {'alias': 'brasseries', 'title': 'Brasseries'}], 'rating': 4.0, 'coordinates': {'latitude': 48.85844, 'longitude': 2.28409}, 'transactions': [], 'price': '€€', 'location': {'address1': '2 rue de Passy', 'address2': None, 'address3': None, 'city': 'Paris', 'zip_code': '75016', 'country': 'FR', 'state': '75', 'display_address': ['2 rue de Passy', '75016 Paris', 'France']}, 'phone': '+33142883102', 'display_phone': '+33 1 42 88 31 02', 'distance': 1038.234160979605}, {'id': 'L4nEaEI72gvFRI88L4xaEw', 'alias': 'musée-marmottan-monet-paris-2', 'name': 'Musée Marmottan Monet', 'image_url': 'https://s3-media3.fl.yelpcdn.com/bphoto/AsURtqA3u5v2gYtLYYbhAA/o.jpg', 'is_closed': False, 'url': 'https://www.yelp.com/biz/mus%C3%A9e-marmottan-monet-paris-2?adjust_creative=v58aGL3xcKISGlGiUDxxtg&utm_campaign=yelp_api_v3&utm_medium=api_v3_business_search&utm_source=v58aGL3xcKISGlGiUDxxtg', 'review_count': 70, 'categories': [{'alias': 'museums', 'title': 'Museums'}], 'rating': 4.5, 'coordinates': {'latitude': 48.8591399, 'longitude': 2.26755}, 'transactions': [], 'location': {'address1': '2 rue Louis Boilly', 'address2': '', 'address3': '', 'city': 'Paris', 'zip_code': '75016', 'country': 'FR', 'state': '75', 'display_address': ['2 rue Louis Boilly', '75016 Paris', 'France']}, 'phone': '+33144965033', 'display_phone': '+33 1 44 96 50 33', 'distance': 962.9223223608343}, {'id': 'tR0Nz7oEzCXE8TlAyrVOSw', 'alias': 'carette-paris', 'name': 'Carette', 'image_url': 'https://s3-media4.fl.yelpcdn.com/bphoto/fZvkEJansHAqmBgGzC-gGA/o.jpg', 'is_closed': False, 'url': 'https://www.yelp.com/biz/carette-paris?adjust_creative=v58aGL3xcKISGlGiUDxxtg&utm_campaign=yelp_api_v3&utm_medium=api_v3_business_search&utm_source=v58aGL3xcKISGlGiUDxxtg', 'review_count': 297, 'categories': [{'alias': 'tea', 'title': 'Tea Rooms'}, {'alias': 'cakeshop', 'title': 'Patisserie/Cake Shop'}], 'rating': 4.0, 'coordinates': {'latitude': 48.863708, 'longitude': 2.287207}, 'transactions': [], 'price': '€€', 'location': {'address1': '4 place du Trocadéro', 'address2': '', 'address3': '', 'city': 'Paris', 'zip_code': '75016', 'country': 'FR', 'state': '75', 'display_address': ['4 place du Trocadéro', '75016 Paris', 'France']}, 'phone': '+33147279885', 'display_phone': '+33 1 47 27 98 85', 'distance': 877.1558472221258}, {'id': 'HimoJ6j4XRO7qIcf-hH20g', 'alias': 'le-paris-16-paris-2', 'name': 'Le Paris 16', 'image_url': 'https://s3-media1.fl.yelpcdn.com/bphoto/SqJjbV0KZhFPd19LsXVSLg/o.jpg', 'is_closed': False, 'url': 'https://www.yelp.com/biz/le-paris-16-paris-2?adjust_creative=v58aGL3xcKISGlGiUDxxtg&utm_campaign=yelp_api_v3&utm_medium=api_v3_business_search&utm_source=v58aGL3xcKISGlGiUDxxtg', 'review_count': 37, 'categories': [{'alias': 'italian', 'title': 'Italian'}, {'alias': 'bistros', 'title': 'Bistros'}], 'rating': 4.0, 'coordinates': {'latitude': 48.8666, 'longitude': 2.28228}, 'transactions': [], 'price': '€€€', 'location': {'address1': '18 rue des Belles Feuilles', 'address2': None, 'address3': None, 'city': 'Paris', 'zip_code': '75116', 'country': 'FR', 'state': '75', 'display_address': ['18 rue des Belles Feuilles', '75116 Paris', 'France']}, 'phone': '+33147045633', 'display_phone': '+33 1 47 04 56 33', 'distance': 484.3555993400418}, {'id': 'XIdikoqvo_xU_BcSOJsQWg', 'alias': 'corso-paris-6', 'name': 'Corso', 'image_url': 'https://s3-media3.fl.yelpcdn.com/bphoto/5-jfifr_H_S4zFDz3Uemww/o.jpg', 'is_closed': False, 'url': 'https://www.yelp.com/biz/corso-paris-6?adjust_creative=v58aGL3xcKISGlGiUDxxtg&utm_campaign=yelp_api_v3&utm_medium=api_v3_business_search&utm_source=v58aGL3xcKISGlGiUDxxtg', 'review_count': 39, 'categories': [{'alias': 'italian', 'title': 'Italian'}], 'rating': 4.0, 'coordinates': {'latitude': 48.864897, 'longitude': 2.289009}, 'transactions': [], 'price': '€€', 'location': {'address1': '79 avenue Kléber', 'address2': '', 'address3': '', 'city': 'Paris', 'zip_code': '75016', 'country': 'FR', 'state': '75', 'display_address': ['79 avenue Kléber', '75016 Paris', 'France']}, 'phone': '+33966889717', 'display_phone': '+33 9 66 88 97 17', 'distance': 979.1628237952631}, {'id': 'HtdVK1S2-HKSdEYZS_uBxA', 'alias': 'schwartzs-deli-paris-2', 'name': \"Schwartz's Deli\", 'image_url': 'https://s3-media3.fl.yelpcdn.com/bphoto/ntZlKR8_UcAeGtOqBv8eXA/o.jpg', 'is_closed': False, 'url': 'https://www.yelp.com/biz/schwartzs-deli-paris-2?adjust_creative=v58aGL3xcKISGlGiUDxxtg&utm_campaign=yelp_api_v3&utm_medium=api_v3_business_search&utm_source=v58aGL3xcKISGlGiUDxxtg', 'review_count': 64, 'categories': [{'alias': 'burgers', 'title': 'Burgers'}, {'alias': 'tradamerican', 'title': 'American'}], 'rating': 3.5, 'coordinates': {'latitude': 48.863781610496, 'longitude': 2.2856212497981}, 'transactions': [], 'price': '€€', 'location': {'address1': \"7 avenue d'Eylau\", 'address2': '', 'address3': '', 'city': 'Paris', 'zip_code': '75116', 'country': 'FR', 'state': '75', 'display_address': [\"7 avenue d'Eylau\", '75116 Paris', 'France']}, 'phone': '+33147047361', 'display_phone': '+33 1 47 04 73 61', 'distance': 764.1580671681827}, {'id': 'Qfn-FEAg3FqEo2VoAyYGxQ', 'alias': 'café-lamartine-paris-2', 'name': 'Café Lamartine', 'image_url': 'https://s3-media2.fl.yelpcdn.com/bphoto/CcVYSDQCnU-r6KVhCrN_uA/o.jpg', 'is_closed': False, 'url': 'https://www.yelp.com/biz/caf%C3%A9-lamartine-paris-2?adjust_creative=v58aGL3xcKISGlGiUDxxtg&utm_campaign=yelp_api_v3&utm_medium=api_v3_business_search&utm_source=v58aGL3xcKISGlGiUDxxtg', 'review_count': 2, 'categories': [{'alias': 'cafes', 'title': 'Cafes'}], 'rating': 4.0, 'coordinates': {'latitude': 48.86591, 'longitude': 2.27614}, 'transactions': [], 'price': '€€', 'location': {'address1': '182 avenue Victor Hugo', 'address2': '', 'address3': '', 'city': 'Paris', 'zip_code': '75116', 'country': 'FR', 'state': '75', 'display_address': ['182 avenue Victor Hugo', '75116 Paris', 'France']}, 'phone': '+33145538506', 'display_phone': '+33 1 45 53 85 06', 'distance': 31.727779183528806}], 'total': 228, 'region': {'center': {'longitude': 2.275725, 'latitude': 48.865983}}}\n"
     ]
    },
    {
     "name": "stderr",
     "output_type": "stream",
     "text": [
      "Processing Stations:   0%|          | 2/1462 [00:00<11:43,  2.08it/s]"
     ]
    },
    {
     "name": "stdout",
     "output_type": "stream",
     "text": [
      "{'businesses': [{'id': 'cEjF41ZQB8-SST8cd3EsEw', 'alias': 'l-avant-comptoir-paris-3', 'name': \"L'Avant Comptoir\", 'image_url': 'https://s3-media2.fl.yelpcdn.com/bphoto/V38oU4jfwMlY8Ue3vb-dBQ/o.jpg', 'is_closed': False, 'url': 'https://www.yelp.com/biz/l-avant-comptoir-paris-3?adjust_creative=v58aGL3xcKISGlGiUDxxtg&utm_campaign=yelp_api_v3&utm_medium=api_v3_business_search&utm_source=v58aGL3xcKISGlGiUDxxtg', 'review_count': 657, 'categories': [{'alias': 'tapas', 'title': 'Tapas Bars'}, {'alias': 'wine_bars', 'title': 'Wine Bars'}], 'rating': 4.5, 'coordinates': {'latitude': 48.85202, 'longitude': 2.3388}, 'transactions': [], 'price': '€€', 'location': {'address1': \"3 carrefour de l'Odéon\", 'address2': '', 'address3': '', 'city': 'Paris', 'zip_code': '75006', 'country': 'FR', 'state': '75', 'display_address': [\"3 carrefour de l'Odéon\", '75006 Paris', 'France']}, 'phone': '+33142384755', 'display_phone': '+33 1 42 38 47 55', 'distance': 194.1463062267755}, {'id': 'n-XIbgR-Gwb1CqBMyjwj0w', 'alias': 'chez-fernand-paris', 'name': 'Chez Fernand', 'image_url': 'https://s3-media4.fl.yelpcdn.com/bphoto/bM8eBinKBCStRy5ye5oi8w/o.jpg', 'is_closed': False, 'url': 'https://www.yelp.com/biz/chez-fernand-paris?adjust_creative=v58aGL3xcKISGlGiUDxxtg&utm_campaign=yelp_api_v3&utm_medium=api_v3_business_search&utm_source=v58aGL3xcKISGlGiUDxxtg', 'review_count': 231, 'categories': [{'alias': 'french', 'title': 'French'}], 'rating': 4.5, 'coordinates': {'latitude': 48.85461, 'longitude': 2.33954}, 'transactions': [], 'price': '€€€', 'location': {'address1': '9 rue Christine', 'address2': None, 'address3': None, 'city': 'Paris', 'zip_code': '75006', 'country': 'FR', 'state': '75', 'display_address': ['9 rue Christine', '75006 Paris', 'France']}, 'phone': '+33143251855', 'display_phone': '+33 1 43 25 18 55', 'distance': 100.3874280354339}, {'id': 'ecKErQELcFy4x-6wbgh8eA', 'alias': 'fish-la-boissonnerie-paris-2', 'name': 'Fish la Boissonnerie', 'image_url': 'https://s3-media3.fl.yelpcdn.com/bphoto/_VNx0osYecmFclTU0FeHvQ/o.jpg', 'is_closed': False, 'url': 'https://www.yelp.com/biz/fish-la-boissonnerie-paris-2?adjust_creative=v58aGL3xcKISGlGiUDxxtg&utm_campaign=yelp_api_v3&utm_medium=api_v3_business_search&utm_source=v58aGL3xcKISGlGiUDxxtg', 'review_count': 137, 'categories': [{'alias': 'french', 'title': 'French'}, {'alias': 'bars', 'title': 'Bars'}, {'alias': 'modern_european', 'title': 'Modern European'}], 'rating': 4.5, 'coordinates': {'latitude': 48.85423, 'longitude': 2.33699}, 'transactions': [], 'price': '€€€', 'location': {'address1': '69 rue de Seine', 'address2': None, 'address3': None, 'city': 'Paris', 'zip_code': '75006', 'country': 'FR', 'state': '75', 'display_address': ['69 rue de Seine', '75006 Paris', 'France']}, 'phone': '+33143543469', 'display_phone': '+33 1 43 54 34 69', 'distance': 158.6823376252677}, {'id': 'MsDztnnHceaGNZ2sfw6ThQ', 'alias': 'semilla-paris', 'name': 'Semilla', 'image_url': 'https://s3-media2.fl.yelpcdn.com/bphoto/ezNtGSGo-fUlibrxewNraQ/o.jpg', 'is_closed': False, 'url': 'https://www.yelp.com/biz/semilla-paris?adjust_creative=v58aGL3xcKISGlGiUDxxtg&utm_campaign=yelp_api_v3&utm_medium=api_v3_business_search&utm_source=v58aGL3xcKISGlGiUDxxtg', 'review_count': 107, 'categories': [{'alias': 'french', 'title': 'French'}, {'alias': 'brasseries', 'title': 'Brasseries'}], 'rating': 4.0, 'coordinates': {'latitude': 48.85406, 'longitude': 2.33691}, 'transactions': [], 'price': '€€€', 'location': {'address1': '54 Rue Seine', 'address2': '', 'address3': '', 'city': 'Paris', 'zip_code': '75006', 'country': 'FR', 'state': '75', 'display_address': ['54 Rue Seine', '75006 Paris', 'France']}, 'phone': '+33143543450', 'display_phone': '+33 1 43 54 34 50', 'distance': 163.4605575684766}, {'id': 'aPLSj-9aNHSQpi7Sf5_9hA', 'alias': 'le-comptoir-paris-18', 'name': 'Le Comptoir', 'image_url': 'https://s3-media1.fl.yelpcdn.com/bphoto/bC1QkhuEs4AHzFr1xVHczg/o.jpg', 'is_closed': False, 'url': 'https://www.yelp.com/biz/le-comptoir-paris-18?adjust_creative=v58aGL3xcKISGlGiUDxxtg&utm_campaign=yelp_api_v3&utm_medium=api_v3_business_search&utm_source=v58aGL3xcKISGlGiUDxxtg', 'review_count': 454, 'categories': [{'alias': 'bistros', 'title': 'Bistros'}], 'rating': 4.0, 'coordinates': {'latitude': 48.851945700766, 'longitude': 2.338757487651}, 'transactions': [], 'price': '€€€', 'location': {'address1': \"9 carrefour de l'Odeon\", 'address2': '', 'address3': '', 'city': 'Paris', 'zip_code': '75006', 'country': 'FR', 'state': '75', 'display_address': [\"9 carrefour de l'Odeon\", '75006 Paris', 'France']}, 'phone': '+33144270750', 'display_phone': '+33 1 44 27 07 50', 'distance': 202.79122481654176}, {'id': 'JRJomzoz6zW_B_c0kBXfvA', 'alias': 'le-procope-paris-2', 'name': 'Le Procope', 'image_url': 'https://s3-media3.fl.yelpcdn.com/bphoto/v1fIx7AiDxLfQbSheYhG4Q/o.jpg', 'is_closed': False, 'url': 'https://www.yelp.com/biz/le-procope-paris-2?adjust_creative=v58aGL3xcKISGlGiUDxxtg&utm_campaign=yelp_api_v3&utm_medium=api_v3_business_search&utm_source=v58aGL3xcKISGlGiUDxxtg', 'review_count': 333, 'categories': [{'alias': 'french', 'title': 'French'}, {'alias': 'seafood', 'title': 'Seafood'}], 'rating': 3.5, 'coordinates': {'latitude': 48.853039868867, 'longitude': 2.33873112110052}, 'transactions': [], 'price': '€€€', 'location': {'address1': \"13 rue de l'Ancienne Comédie\", 'address2': None, 'address3': None, 'city': 'Paris', 'zip_code': '75006', 'country': 'FR', 'state': '75', 'display_address': [\"13 rue de l'Ancienne Comédie\", '75006 Paris', 'France']}, 'phone': '+33140467900', 'display_phone': '+33 1 40 46 79 00', 'distance': 83.96152451590636}, {'id': 'eYLzpmGwnksfazRPoiVBEw', 'alias': 'ippudo-saint-germain-paris', 'name': 'Ippudo Saint-Germain', 'image_url': 'https://s3-media1.fl.yelpcdn.com/bphoto/t6xBj-ybWD08GkBYym-5iQ/o.jpg', 'is_closed': False, 'url': 'https://www.yelp.com/biz/ippudo-saint-germain-paris?adjust_creative=v58aGL3xcKISGlGiUDxxtg&utm_campaign=yelp_api_v3&utm_medium=api_v3_business_search&utm_source=v58aGL3xcKISGlGiUDxxtg', 'review_count': 113, 'categories': [{'alias': 'ramen', 'title': 'Ramen'}], 'rating': 4.0, 'coordinates': {'latitude': 48.853198, 'longitude': 2.337687}, 'transactions': [], 'price': '€€', 'location': {'address1': '14 rue Grégoire de Tours', 'address2': '', 'address3': '', 'city': 'Paris', 'zip_code': '75006', 'country': 'FR', 'state': '75', 'display_address': ['14 rue Grégoire de Tours', '75006 Paris', 'France']}, 'phone': '+33142382199', 'display_phone': '+33 1 42 38 21 99', 'distance': 120.2981880891589}, {'id': 'ctP4c3mwVO5oOzLI48LtuQ', 'alias': 'les-antiquaires-paris', 'name': 'Les Antiquaires', 'image_url': 'https://s3-media1.fl.yelpcdn.com/bphoto/5NWC7VJSVWfNO4BXs_8i_A/o.jpg', 'is_closed': False, 'url': 'https://www.yelp.com/biz/les-antiquaires-paris?adjust_creative=v58aGL3xcKISGlGiUDxxtg&utm_campaign=yelp_api_v3&utm_medium=api_v3_business_search&utm_source=v58aGL3xcKISGlGiUDxxtg', 'review_count': 467, 'categories': [{'alias': 'bistros', 'title': 'Bistros'}], 'rating': 4.5, 'coordinates': {'latitude': 48.8580664639432, 'longitude': 2.32823697067099}, 'transactions': [], 'price': '€€€', 'location': {'address1': '13 rue du Bac', 'address2': '', 'address3': '', 'city': 'Paris', 'zip_code': '75007', 'country': 'FR', 'state': '75', 'display_address': ['13 rue du Bac', '75007 Paris', 'France']}, 'phone': '+33142610836', 'display_phone': '+33 1 42 61 08 36', 'distance': 927.8432442582576}, {'id': '2qzLbDM1dkpsKyyCXAEXWw', 'alias': 'guy-savoy-paris-3', 'name': 'Guy Savoy', 'image_url': 'https://s3-media3.fl.yelpcdn.com/bphoto/WFc_65erqcdcypw5I-_oMA/o.jpg', 'is_closed': False, 'url': 'https://www.yelp.com/biz/guy-savoy-paris-3?adjust_creative=v58aGL3xcKISGlGiUDxxtg&utm_campaign=yelp_api_v3&utm_medium=api_v3_business_search&utm_source=v58aGL3xcKISGlGiUDxxtg', 'review_count': 90, 'categories': [{'alias': 'french', 'title': 'French'}], 'rating': 4.5, 'coordinates': {'latitude': 48.857, 'longitude': 2.3386999}, 'transactions': [], 'price': '€€€€', 'location': {'address1': 'Monnaie de Paris', 'address2': '11 quai de Conti', 'address3': '', 'city': 'Paris', 'zip_code': '75006', 'country': 'FR', 'state': '75', 'display_address': ['Monnaie de Paris', '11 quai de Conti', '75006 Paris', 'France']}, 'phone': '+33143804061', 'display_phone': '+33 1 43 80 40 61', 'distance': 383.0371824956357}, {'id': 'pztzge22A_c_BfzLHCmaMw', 'alias': 'le-bistro-du-périgord-paris-3', 'name': 'Le Bistro du Périgord', 'image_url': 'https://s3-media1.fl.yelpcdn.com/bphoto/kT9tcdFokBM__2aZIi8LcQ/o.jpg', 'is_closed': False, 'url': 'https://www.yelp.com/biz/le-bistro-du-p%C3%A9rigord-paris-3?adjust_creative=v58aGL3xcKISGlGiUDxxtg&utm_campaign=yelp_api_v3&utm_medium=api_v3_business_search&utm_source=v58aGL3xcKISGlGiUDxxtg', 'review_count': 377, 'categories': [{'alias': 'bistros', 'title': 'Bistros'}], 'rating': 4.5, 'coordinates': {'latitude': 48.8498092201519, 'longitude': 2.34515282327701}, 'transactions': [], 'price': '€€€', 'location': {'address1': '71 rue Saint-Jacques', 'address2': '', 'address3': '', 'city': 'Paris', 'zip_code': '75005', 'country': 'FR', 'state': '75', 'display_address': ['71 rue Saint-Jacques', '75005 Paris', 'France']}, 'phone': '+33143296749', 'display_phone': '+33 1 43 29 67 49', 'distance': 623.6864304498889}, {'id': '_MNAGLsoe_vihaXk6tpffw', 'alias': 'le-bistrot-d-henri-paris', 'name': \"Le Bistrot d'Henri\", 'image_url': 'https://s3-media2.fl.yelpcdn.com/bphoto/ziFOcBCYSHHxGIHWFNkGvA/o.jpg', 'is_closed': False, 'url': 'https://www.yelp.com/biz/le-bistrot-d-henri-paris?adjust_creative=v58aGL3xcKISGlGiUDxxtg&utm_campaign=yelp_api_v3&utm_medium=api_v3_business_search&utm_source=v58aGL3xcKISGlGiUDxxtg', 'review_count': 135, 'categories': [{'alias': 'french', 'title': 'French'}], 'rating': 4.5, 'coordinates': {'latitude': 48.852067, 'longitude': 2.334431}, 'transactions': [], 'price': '€€€', 'location': {'address1': '16 rue Princesse', 'address2': None, 'address3': None, 'city': 'Paris', 'zip_code': '75006', 'country': 'FR', 'state': '75', 'display_address': ['16 rue Princesse', '75006 Paris', 'France']}, 'phone': '+33146335112', 'display_phone': '+33 1 46 33 51 12', 'distance': 389.55343424060015}, {'id': 'vxz_Uq_hH_Ack1Av1HUbjw', 'alias': 'huitrerie-régis-paris-4', 'name': 'Huitrerie Régis', 'image_url': 'https://s3-media3.fl.yelpcdn.com/bphoto/QWXwvVOFw0oToAngQs0N9g/o.jpg', 'is_closed': False, 'url': 'https://www.yelp.com/biz/huitrerie-r%C3%A9gis-paris-4?adjust_creative=v58aGL3xcKISGlGiUDxxtg&utm_campaign=yelp_api_v3&utm_medium=api_v3_business_search&utm_source=v58aGL3xcKISGlGiUDxxtg', 'review_count': 100, 'categories': [{'alias': 'seafood', 'title': 'Seafood'}], 'rating': 4.5, 'coordinates': {'latitude': 48.852768, 'longitude': 2.336005}, 'transactions': [], 'price': '€€€', 'location': {'address1': '3 rue de Montfaucon', 'address2': '', 'address3': '', 'city': 'Paris', 'zip_code': '75006', 'country': 'FR', 'state': '75', 'display_address': ['3 rue de Montfaucon', '75006 Paris', 'France']}, 'phone': '+33144411007', 'display_phone': '+33 1 44 41 10 07', 'distance': 251.40326209689684}, {'id': '6nk5-n3DT6Cxs3hHbXHkvw', 'alias': 'le-christine-paris-3', 'name': 'Le Christine', 'image_url': 'https://s3-media1.fl.yelpcdn.com/bphoto/kid7D8u_NdNf9F7iTXv0lQ/o.jpg', 'is_closed': False, 'url': 'https://www.yelp.com/biz/le-christine-paris-3?adjust_creative=v58aGL3xcKISGlGiUDxxtg&utm_campaign=yelp_api_v3&utm_medium=api_v3_business_search&utm_source=v58aGL3xcKISGlGiUDxxtg', 'review_count': 89, 'categories': [{'alias': 'french', 'title': 'French'}], 'rating': 4.0, 'coordinates': {'latitude': 48.854343, 'longitude': 2.340276}, 'transactions': [], 'price': '€€€', 'location': {'address1': '1 rue Christine', 'address2': '', 'address3': None, 'city': 'Paris', 'zip_code': '75006', 'country': 'FR', 'state': '01', 'display_address': ['1 rue Christine', '75006 Paris', 'France']}, 'phone': '+33140517164', 'display_phone': '+33 1 40 51 71 64', 'distance': 108.25419914334759}, {'id': 'YWUQgvKj802eVIhoFCy8rQ', 'alias': 'l-epigramme-paris', 'name': \"L'Epigramme\", 'image_url': 'https://s3-media1.fl.yelpcdn.com/bphoto/2uI11NaNl3mSR_fD_64csg/o.jpg', 'is_closed': False, 'url': 'https://www.yelp.com/biz/l-epigramme-paris?adjust_creative=v58aGL3xcKISGlGiUDxxtg&utm_campaign=yelp_api_v3&utm_medium=api_v3_business_search&utm_source=v58aGL3xcKISGlGiUDxxtg', 'review_count': 34, 'categories': [{'alias': 'french', 'title': 'French'}], 'rating': 4.5, 'coordinates': {'latitude': 48.852558, 'longitude': 2.340719}, 'transactions': [], 'price': '€€€', 'location': {'address1': \"9 rue de l'Eperon\", 'address2': None, 'address3': None, 'city': 'Paris', 'zip_code': '75006', 'country': 'FR', 'state': '75', 'display_address': [\"9 rue de l'Eperon\", '75006 Paris', 'France']}, 'phone': '+33156816099', 'display_phone': '+33 1 56 81 60 99', 'distance': 178.44848316881843}, {'id': 'neoK8vQyvWiNXtnlTCCG6w', 'alias': 'huguette-paris-2', 'name': 'Huguette', 'image_url': 'https://s3-media2.fl.yelpcdn.com/bphoto/huQM14xxfr9n6Xk0-RL9ug/o.jpg', 'is_closed': False, 'url': 'https://www.yelp.com/biz/huguette-paris-2?adjust_creative=v58aGL3xcKISGlGiUDxxtg&utm_campaign=yelp_api_v3&utm_medium=api_v3_business_search&utm_source=v58aGL3xcKISGlGiUDxxtg', 'review_count': 69, 'categories': [{'alias': 'seafood', 'title': 'Seafood'}], 'rating': 4.0, 'coordinates': {'latitude': 48.8532753282413, 'longitude': 2.337029}, 'transactions': [], 'price': '€€', 'location': {'address1': '81 rue de Seine', 'address2': '', 'address3': '', 'city': 'Paris', 'zip_code': '75006', 'country': 'FR', 'state': '75', 'display_address': ['81 rue de Seine', '75006 Paris', 'France']}, 'phone': '+33143250028', 'display_phone': '+33 1 43 25 00 28', 'distance': 160.37814712741118}, {'id': 'N0ZLLAL9MdQIFtO-QDzYuQ', 'alias': 'ze-kitchen-galerie-paris', 'name': 'Ze Kitchen Galerie', 'image_url': 'https://s3-media2.fl.yelpcdn.com/bphoto/ZNJoF7xhF59cyGlG-2GohA/o.jpg', 'is_closed': False, 'url': 'https://www.yelp.com/biz/ze-kitchen-galerie-paris?adjust_creative=v58aGL3xcKISGlGiUDxxtg&utm_campaign=yelp_api_v3&utm_medium=api_v3_business_search&utm_source=v58aGL3xcKISGlGiUDxxtg', 'review_count': 211, 'categories': [{'alias': 'french', 'title': 'French'}, {'alias': 'panasian', 'title': 'Pan Asian'}], 'rating': 4.0, 'coordinates': {'latitude': 48.85502, 'longitude': 2.3412099}, 'transactions': [], 'price': '€€€€', 'location': {'address1': '4 rue des Grands Augustins', 'address2': '', 'address3': '', 'city': 'Paris', 'zip_code': '75006', 'country': 'FR', 'state': '75', 'display_address': ['4 rue des Grands Augustins', '75006 Paris', 'France']}, 'phone': '+33144320032', 'display_phone': '+33 1 44 32 00 32', 'distance': 208.58640369202567}, {'id': 'AtaYhOa_2laBNl21ON2b2Q', 'alias': 'fajitas-paris', 'name': 'Fajitas', 'image_url': 'https://s3-media3.fl.yelpcdn.com/bphoto/ALzp4gpsJrBnGy3yYY4Lsg/o.jpg', 'is_closed': False, 'url': 'https://www.yelp.com/biz/fajitas-paris?adjust_creative=v58aGL3xcKISGlGiUDxxtg&utm_campaign=yelp_api_v3&utm_medium=api_v3_business_search&utm_source=v58aGL3xcKISGlGiUDxxtg', 'review_count': 164, 'categories': [{'alias': 'mexican', 'title': 'Mexican'}], 'rating': 4.0, 'coordinates': {'latitude': 48.8555801, 'longitude': 2.3400906}, 'transactions': [], 'price': '€€', 'location': {'address1': '15 rue Dauphine', 'address2': '', 'address3': '', 'city': 'Paris', 'zip_code': '75006', 'country': 'FR', 'state': '75', 'display_address': ['15 rue Dauphine', '75006 Paris', 'France']}, 'phone': '+33146344469', 'display_phone': '+33 1 46 34 44 69', 'distance': 215.5131992514751}, {'id': '8M_zqDs2Un9IQ0wOMQ1h8A', 'alias': 'breizh-café-odéon-la-crêpe-autrement-paris-2', 'name': 'BREIZH Café Odéon | La Crêpe Autrement', 'image_url': 'https://s3-media2.fl.yelpcdn.com/bphoto/YrhqAt-KBsFC1adrwIXwZg/o.jpg', 'is_closed': False, 'url': 'https://www.yelp.com/biz/breizh-caf%C3%A9-od%C3%A9on-la-cr%C3%AApe-autrement-paris-2?adjust_creative=v58aGL3xcKISGlGiUDxxtg&utm_campaign=yelp_api_v3&utm_medium=api_v3_business_search&utm_source=v58aGL3xcKISGlGiUDxxtg', 'review_count': 70, 'categories': [{'alias': 'creperies', 'title': 'Creperies'}, {'alias': 'cafes', 'title': 'Cafes'}], 'rating': 4.5, 'coordinates': {'latitude': 48.851586, 'longitude': 2.33885}, 'transactions': [], 'price': '€€', 'location': {'address1': \"1 rue de l'Odéon\", 'address2': '', 'address3': None, 'city': 'Paris', 'zip_code': '75006', 'country': 'FR', 'state': '75', 'display_address': [\"1 rue de l'Odéon\", '75006 Paris', 'France']}, 'phone': '+33142493473', 'display_phone': '+33 1 42 49 34 73', 'distance': 241.94104069996703}, {'id': 'eWFvNgt9BMg0ezOy_2YGJg', 'alias': 'kodawari-ramen-paris-9', 'name': 'Kodawari Ramen', 'image_url': 'https://s3-media1.fl.yelpcdn.com/bphoto/JfYR0WczEVOmzQduvY0Nzw/o.jpg', 'is_closed': False, 'url': 'https://www.yelp.com/biz/kodawari-ramen-paris-9?adjust_creative=v58aGL3xcKISGlGiUDxxtg&utm_campaign=yelp_api_v3&utm_medium=api_v3_business_search&utm_source=v58aGL3xcKISGlGiUDxxtg', 'review_count': 97, 'categories': [{'alias': 'ramen', 'title': 'Ramen'}], 'rating': 4.0, 'coordinates': {'latitude': 48.85467, 'longitude': 2.33806}, 'transactions': [], 'price': '€€', 'location': {'address1': '29 rue Mazarine', 'address2': None, 'address3': '', 'city': 'Paris', 'zip_code': '75006', 'country': 'FR', 'state': '75', 'display_address': ['29 rue Mazarine', '75006 Paris', 'France']}, 'phone': '+33143293767', 'display_phone': '+33 1 43 29 37 67', 'distance': 122.61150023834466}, {'id': 'hTClaTbijWdvdSyHxRIiPQ', 'alias': 'la-grande-cremerie-paris', 'name': 'La Grande Cremerie', 'image_url': 'https://s3-media1.fl.yelpcdn.com/bphoto/_MDLRIHMNyYylCsKxyriwA/o.jpg', 'is_closed': False, 'url': 'https://www.yelp.com/biz/la-grande-cremerie-paris?adjust_creative=v58aGL3xcKISGlGiUDxxtg&utm_campaign=yelp_api_v3&utm_medium=api_v3_business_search&utm_source=v58aGL3xcKISGlGiUDxxtg', 'review_count': 35, 'categories': [{'alias': 'wine_bars', 'title': 'Wine Bars'}, {'alias': 'french', 'title': 'French'}], 'rating': 4.5, 'coordinates': {'latitude': 48.853398816452, 'longitude': 2.33779953372959}, 'transactions': [], 'price': '€€', 'location': {'address1': '8 rue Grégoire-de-Tours', 'address2': '', 'address3': '', 'city': 'Paris', 'zip_code': '75006', 'country': 'FR', 'state': '75', 'display_address': ['8 rue Grégoire-de-Tours', '75006 Paris', 'France']}, 'phone': '+33143260909', 'display_phone': '+33 1 43 26 09 09', 'distance': 102.8136917825328}], 'total': 1800, 'region': {'center': {'longitude': 2.3390958085656166, 'latitude': 48.85375581057431}}}\n"
     ]
    },
    {
     "name": "stderr",
     "output_type": "stream",
     "text": [
      "Processing Stations:   0%|          | 3/1462 [00:01<12:01,  2.02it/s]"
     ]
    },
    {
     "name": "stdout",
     "output_type": "stream",
     "text": [
      "{'businesses': [{'id': 'Aq_Bik-n7vJv4IyMPbSo9g', 'alias': 'l-aller-retour-paris', 'name': \"L'Aller Retour\", 'image_url': 'https://s3-media2.fl.yelpcdn.com/bphoto/VMZ_47Bagj1AgYnVpfvwCQ/o.jpg', 'is_closed': False, 'url': 'https://www.yelp.com/biz/l-aller-retour-paris?adjust_creative=v58aGL3xcKISGlGiUDxxtg&utm_campaign=yelp_api_v3&utm_medium=api_v3_business_search&utm_source=v58aGL3xcKISGlGiUDxxtg', 'review_count': 81, 'categories': [{'alias': 'wine_bars', 'title': 'Wine Bars'}, {'alias': 'steak', 'title': 'Steakhouses'}], 'rating': 4.5, 'coordinates': {'latitude': 48.865353, 'longitude': 2.363151}, 'transactions': [], 'price': '€€€', 'location': {'address1': '5 rue Charles François Dupuis', 'address2': '', 'address3': '', 'city': 'Paris', 'zip_code': '75003', 'country': 'FR', 'state': '75', 'display_address': ['5 rue Charles François Dupuis', '75003 Paris', 'France']}, 'phone': '+33142780121', 'display_phone': '+33 1 42 78 01 21', 'distance': 307.92717701385504}, {'id': '2b1VL9X67L0T68gVeQ8FrA', 'alias': 'inaro-paris-10', 'name': 'Inaro', 'image_url': 'https://s3-media1.fl.yelpcdn.com/bphoto/vdk463oAZthcVENwq3NLFw/o.jpg', 'is_closed': False, 'url': 'https://www.yelp.com/biz/inaro-paris-10?adjust_creative=v58aGL3xcKISGlGiUDxxtg&utm_campaign=yelp_api_v3&utm_medium=api_v3_business_search&utm_source=v58aGL3xcKISGlGiUDxxtg', 'review_count': 85, 'categories': [{'alias': 'wine_bars', 'title': 'Wine Bars'}, {'alias': 'tapasmallplates', 'title': 'Tapas/Small Plates'}, {'alias': 'breakfast_brunch', 'title': 'Breakfast & Brunch'}], 'rating': 4.5, 'coordinates': {'latitude': 48.868423, 'longitude': 2.361196}, 'transactions': [], 'price': '€€', 'location': {'address1': '38 rue René Boulanger', 'address2': '', 'address3': '', 'city': 'Paris', 'zip_code': '75010', 'country': 'FR', 'state': '75', 'display_address': ['38 rue René Boulanger', '75010 Paris', 'France']}, 'phone': '+33983079252', 'display_phone': '+33 9 83 07 92 52', 'distance': 277.62498298541186}, {'id': 'Hxqo84j1PWvo0-HizpHsuA', 'alias': 'l-îlot-paris-2', 'name': \"L'îlot\", 'image_url': 'https://s3-media2.fl.yelpcdn.com/bphoto/8L1Bi7fWygJ0ysKQ8frtPw/o.jpg', 'is_closed': False, 'url': 'https://www.yelp.com/biz/l-%C3%AElot-paris-2?adjust_creative=v58aGL3xcKISGlGiUDxxtg&utm_campaign=yelp_api_v3&utm_medium=api_v3_business_search&utm_source=v58aGL3xcKISGlGiUDxxtg', 'review_count': 66, 'categories': [{'alias': 'seafood', 'title': 'Seafood'}], 'rating': 4.5, 'coordinates': {'latitude': 48.8647842407227, 'longitude': 2.36330199241638}, 'transactions': [], 'price': '€€', 'location': {'address1': '4 rue de la Corderie', 'address2': '', 'address3': '', 'city': 'Paris', 'zip_code': '75003', 'country': 'FR', 'state': '75', 'display_address': ['4 rue de la Corderie', '75003 Paris', 'France']}, 'phone': '+33695128661', 'display_phone': '+33 6 95 12 86 61', 'distance': 362.70310610468647}, {'id': '6m9bnpfICHZ3OKk8wI0AYg', 'alias': 'les-parigots-paris', 'name': 'Les Parigots', 'image_url': 'https://s3-media2.fl.yelpcdn.com/bphoto/Z23KROW4aeQF_-ZO6K3etw/o.jpg', 'is_closed': False, 'url': 'https://www.yelp.com/biz/les-parigots-paris?adjust_creative=v58aGL3xcKISGlGiUDxxtg&utm_campaign=yelp_api_v3&utm_medium=api_v3_business_search&utm_source=v58aGL3xcKISGlGiUDxxtg', 'review_count': 81, 'categories': [{'alias': 'bars', 'title': 'Bars'}, {'alias': 'brasseries', 'title': 'Brasseries'}], 'rating': 4.0, 'coordinates': {'latitude': 48.86926, 'longitude': 2.36183}, 'transactions': [], 'price': '€€', 'location': {'address1': \"5 rue Château d'eau\", 'address2': None, 'address3': None, 'city': 'Paris', 'zip_code': '75010', 'country': 'FR', 'state': '75', 'display_address': [\"5 rue Château d'eau\", '75010 Paris', 'France']}, 'phone': '+33977789923', 'display_phone': '+33 9 77 78 99 23', 'distance': 272.3360346779786}, {'id': '3unAMsZNSgtKfaX7MTepnQ', 'alias': 'the-beast-paris', 'name': 'The Beast', 'image_url': 'https://s3-media4.fl.yelpcdn.com/bphoto/Bw6SkluQ7OIKCsNZ861Q_A/o.jpg', 'is_closed': False, 'url': 'https://www.yelp.com/biz/the-beast-paris?adjust_creative=v58aGL3xcKISGlGiUDxxtg&utm_campaign=yelp_api_v3&utm_medium=api_v3_business_search&utm_source=v58aGL3xcKISGlGiUDxxtg', 'review_count': 86, 'categories': [{'alias': 'tradamerican', 'title': 'American'}, {'alias': 'bbq', 'title': 'Barbeque'}], 'rating': 4.0, 'coordinates': {'latitude': 48.86773, 'longitude': 2.35969}, 'transactions': [], 'price': '€€€', 'location': {'address1': '27 rue Meslay', 'address2': '', 'address3': '', 'city': 'Paris', 'zip_code': '75003', 'country': 'FR', 'state': '75', 'display_address': ['27 rue Meslay', '75003 Paris', 'France']}, 'phone': '+33781029977', 'display_phone': '+33 7 81 02 99 77', 'distance': 383.1873537548903}, {'id': '7i7K8hHdO_TZW4qg0FDqpQ', 'alias': 'la-marine-paris-2', 'name': 'La Marine', 'image_url': 'https://s3-media4.fl.yelpcdn.com/bphoto/Fh3AWG5wdm1WQHaXSeRMFw/o.jpg', 'is_closed': False, 'url': 'https://www.yelp.com/biz/la-marine-paris-2?adjust_creative=v58aGL3xcKISGlGiUDxxtg&utm_campaign=yelp_api_v3&utm_medium=api_v3_business_search&utm_source=v58aGL3xcKISGlGiUDxxtg', 'review_count': 137, 'categories': [{'alias': 'french', 'title': 'French'}], 'rating': 3.5, 'coordinates': {'latitude': 48.870604, 'longitude': 2.36533366888659}, 'transactions': [], 'price': '€€', 'location': {'address1': '55bis quai de Valmy', 'address2': '', 'address3': None, 'city': 'Paris', 'zip_code': '75010', 'country': 'FR', 'state': '75', 'display_address': ['55bis quai de Valmy', '75010 Paris', 'France']}, 'phone': '+33142396981', 'display_phone': '+33 1 42 39 69 81', 'distance': 305.3956513545622}, {'id': 'ce3vXRUtUKZjbGf2fv8VzQ', 'alias': 'ober-mamma-paris', 'name': 'Ober Mamma', 'image_url': 'https://s3-media1.fl.yelpcdn.com/bphoto/q0IfKnMGcfZkodl_1vlyUA/o.jpg', 'is_closed': False, 'url': 'https://www.yelp.com/biz/ober-mamma-paris?adjust_creative=v58aGL3xcKISGlGiUDxxtg&utm_campaign=yelp_api_v3&utm_medium=api_v3_business_search&utm_source=v58aGL3xcKISGlGiUDxxtg', 'review_count': 307, 'categories': [{'alias': 'pizza', 'title': 'Pizza'}, {'alias': 'italian', 'title': 'Italian'}, {'alias': 'cocktailbars', 'title': 'Cocktail Bars'}], 'rating': 4.5, 'coordinates': {'latitude': 48.86446, 'longitude': 2.37018}, 'transactions': [], 'price': '€€', 'location': {'address1': '107 boulevard Richard Lenoir', 'address2': '', 'address3': '', 'city': 'Paris', 'zip_code': '75011', 'country': 'FR', 'state': '75', 'display_address': ['107 boulevard Richard Lenoir', '75011 Paris', 'France']}, 'phone': '+33158306278', 'display_phone': '+33 1 58 30 62 78', 'distance': 539.4455224004607}, {'id': 'a8MExkya0VbSeFmyWL_JhA', 'alias': 'chez-imogène-paris-2', 'name': 'Chez Imogène', 'image_url': 'https://s3-media2.fl.yelpcdn.com/bphoto/UhRnrrhaWw617kYnemQXxA/o.jpg', 'is_closed': False, 'url': 'https://www.yelp.com/biz/chez-imog%C3%A8ne-paris-2?adjust_creative=v58aGL3xcKISGlGiUDxxtg&utm_campaign=yelp_api_v3&utm_medium=api_v3_business_search&utm_source=v58aGL3xcKISGlGiUDxxtg', 'review_count': 106, 'categories': [{'alias': 'creperies', 'title': 'Creperies'}], 'rating': 4.5, 'coordinates': {'latitude': 48.86545, 'longitude': 2.36856}, 'transactions': [], 'price': '€€', 'location': {'address1': '25 rue Jean Pierre Timbaud', 'address2': '', 'address3': None, 'city': 'Paris', 'zip_code': '75011', 'country': 'FR', 'state': '75', 'display_address': ['25 rue Jean Pierre Timbaud', '75011 Paris', 'France']}, 'phone': '+33148071459', 'display_phone': '+33 1 48 07 14 59', 'distance': 378.5713389529533}, {'id': '53U3AEWiVgf-vKVfithMrw', 'alias': 'co-ba-saigon-paris', 'name': 'Co Ba Saigon', 'image_url': 'https://s3-media3.fl.yelpcdn.com/bphoto/gD3N9AH3v1BfgHH5tqA--w/o.jpg', 'is_closed': False, 'url': 'https://www.yelp.com/biz/co-ba-saigon-paris?adjust_creative=v58aGL3xcKISGlGiUDxxtg&utm_campaign=yelp_api_v3&utm_medium=api_v3_business_search&utm_source=v58aGL3xcKISGlGiUDxxtg', 'review_count': 23, 'categories': [{'alias': 'vietnamese', 'title': 'Vietnamese'}], 'rating': 5.0, 'coordinates': {'latitude': 48.8659652, 'longitude': 2.365558}, 'transactions': [], 'location': {'address1': '48 boulevard du Temple', 'address2': '', 'address3': None, 'city': 'Paris', 'zip_code': '75011', 'country': 'FR', 'state': '75', 'display_address': ['48 boulevard du Temple', '75011 Paris', 'France']}, 'phone': '+33148069893', 'display_phone': '+33 1 48 06 98 93', 'distance': 217.50175971347534}, {'id': 'vzwks2LoEdQz_ZMZ9zPnLA', 'alias': 'lavomatic-paris', 'name': 'Lavomatic', 'image_url': 'https://s3-media3.fl.yelpcdn.com/bphoto/eYfBKnaImjvMBucct5x8og/o.jpg', 'is_closed': False, 'url': 'https://www.yelp.com/biz/lavomatic-paris?adjust_creative=v58aGL3xcKISGlGiUDxxtg&utm_campaign=yelp_api_v3&utm_medium=api_v3_business_search&utm_source=v58aGL3xcKISGlGiUDxxtg', 'review_count': 78, 'categories': [{'alias': 'cocktailbars', 'title': 'Cocktail Bars'}, {'alias': 'tapasmallplates', 'title': 'Tapas/Small Plates'}, {'alias': 'wine_bars', 'title': 'Wine Bars'}], 'rating': 4.0, 'coordinates': {'latitude': 48.8684719636216, 'longitude': 2.36200138194357}, 'transactions': [], 'price': '€€', 'location': {'address1': '30 rue René Boulanger', 'address2': '', 'address3': '', 'city': 'Paris', 'zip_code': '75010', 'country': 'FR', 'state': '75', 'display_address': ['30 rue René Boulanger', '75010 Paris', 'France']}, 'phone': '', 'display_phone': '', 'distance': 222.12197654791112}, {'id': '-cSK_-y04p3oVu98DShiyQ', 'alias': 'robert-et-louise-paris-2', 'name': 'Robert et Louise', 'image_url': 'https://s3-media4.fl.yelpcdn.com/bphoto/Z9LxScH8NoG2Sl8E5HC2ig/o.jpg', 'is_closed': False, 'url': 'https://www.yelp.com/biz/robert-et-louise-paris-2?adjust_creative=v58aGL3xcKISGlGiUDxxtg&utm_campaign=yelp_api_v3&utm_medium=api_v3_business_search&utm_source=v58aGL3xcKISGlGiUDxxtg', 'review_count': 355, 'categories': [{'alias': 'french', 'title': 'French'}, {'alias': 'steak', 'title': 'Steakhouses'}], 'rating': 4.0, 'coordinates': {'latitude': 48.859081, 'longitude': 2.359435}, 'transactions': [], 'price': '€€€', 'location': {'address1': '64 rue Vieille du Temple', 'address2': '', 'address3': '', 'city': 'Paris', 'zip_code': '75003', 'country': 'FR', 'state': '75', 'display_address': ['64 rue Vieille du Temple', '75003 Paris', 'France']}, 'phone': '+33142785589', 'display_phone': '+33 1 42 78 55 89', 'distance': 1056.0994539299286}, {'id': '4s9HwWVvgOSbyO_iluhG_g', 'alias': 'aux-péchés-normands-paris-4', 'name': 'Aux Péchés Normands', 'image_url': 'https://s3-media3.fl.yelpcdn.com/bphoto/irUycw4KuWJBmYVcEPyitg/o.jpg', 'is_closed': False, 'url': 'https://www.yelp.com/biz/aux-p%C3%A9ch%C3%A9s-normands-paris-4?adjust_creative=v58aGL3xcKISGlGiUDxxtg&utm_campaign=yelp_api_v3&utm_medium=api_v3_business_search&utm_source=v58aGL3xcKISGlGiUDxxtg', 'review_count': 55, 'categories': [{'alias': 'bakeries', 'title': 'Bakeries'}, {'alias': 'catering', 'title': 'Caterers'}, {'alias': 'cakeshop', 'title': 'Patisserie/Cake Shop'}], 'rating': 5.0, 'coordinates': {'latitude': 48.86813, 'longitude': 2.3654}, 'transactions': [], 'price': '€', 'location': {'address1': '9 rue du faubourg du Temple', 'address2': None, 'address3': None, 'city': 'Paris', 'zip_code': '75010', 'country': 'FR', 'state': '75', 'display_address': ['9 rue du faubourg du Temple', '75010 Paris', 'France']}, 'phone': '+33142084773', 'display_phone': '+33 1 42 08 47 73', 'distance': 46.55084980355358}, {'id': 'JdLtuLbhI76mBn6ySHTmfQ', 'alias': 'siseng-paris', 'name': 'Siseng', 'image_url': 'https://s3-media1.fl.yelpcdn.com/bphoto/CFzZP7jC0KZToKwE3Kit6w/o.jpg', 'is_closed': False, 'url': 'https://www.yelp.com/biz/siseng-paris?adjust_creative=v58aGL3xcKISGlGiUDxxtg&utm_campaign=yelp_api_v3&utm_medium=api_v3_business_search&utm_source=v58aGL3xcKISGlGiUDxxtg', 'review_count': 161, 'categories': [{'alias': 'burgers', 'title': 'Burgers'}, {'alias': 'panasian', 'title': 'Pan Asian'}], 'rating': 4.5, 'coordinates': {'latitude': 48.87228, 'longitude': 2.36506}, 'transactions': [], 'price': '€€', 'location': {'address1': '82 quai de Jemmapes', 'address2': '', 'address3': '', 'city': 'Paris', 'zip_code': '75010', 'country': 'FR', 'state': '75', 'display_address': ['82 quai de Jemmapes', '75010 Paris', 'France']}, 'phone': '', 'display_phone': '', 'distance': 491.89442665286276}, {'id': 'nlTxpYGtH_NXeC659ven3w', 'alias': 'ossek-garden-paris', 'name': 'Ossek Garden', 'image_url': 'https://s3-media2.fl.yelpcdn.com/bphoto/Tl3gUxrJ2qPHhge7IdGqYA/o.jpg', 'is_closed': False, 'url': 'https://www.yelp.com/biz/ossek-garden-paris?adjust_creative=v58aGL3xcKISGlGiUDxxtg&utm_campaign=yelp_api_v3&utm_medium=api_v3_business_search&utm_source=v58aGL3xcKISGlGiUDxxtg', 'review_count': 95, 'categories': [{'alias': 'korean', 'title': 'Korean'}], 'rating': 4.0, 'coordinates': {'latitude': 48.86646, 'longitude': 2.36816}, 'transactions': [], 'price': '€€', 'location': {'address1': '14 rue Rampon', 'address2': None, 'address3': None, 'city': 'Paris', 'zip_code': '75011', 'country': 'FR', 'state': '75', 'display_address': ['14 rue Rampon', '75011 Paris', 'France']}, 'phone': '+33148071635', 'display_phone': '+33 1 48 07 16 35', 'distance': 285.63902291901513}, {'id': 'rbBs01WKKsVZG61q5IwJ_w', 'alias': 'holybelly-5-paris-2', 'name': 'Holybelly 5', 'image_url': 'https://s3-media3.fl.yelpcdn.com/bphoto/QHabjNUyY9WlnH6We1hCBg/o.jpg', 'is_closed': False, 'url': 'https://www.yelp.com/biz/holybelly-5-paris-2?adjust_creative=v58aGL3xcKISGlGiUDxxtg&utm_campaign=yelp_api_v3&utm_medium=api_v3_business_search&utm_source=v58aGL3xcKISGlGiUDxxtg', 'review_count': 296, 'categories': [{'alias': 'breakfast_brunch', 'title': 'Breakfast & Brunch'}, {'alias': 'coffee', 'title': 'Coffee & Tea'}], 'rating': 4.5, 'coordinates': {'latitude': 48.871022, 'longitude': 2.359819}, 'transactions': [], 'price': '€€', 'location': {'address1': '5 rue Lucien Sampaix', 'address2': '', 'address3': None, 'city': 'Paris', 'zip_code': '75010', 'country': 'FR', 'state': '75', 'display_address': ['5 rue Lucien Sampaix', '75010 Paris', 'France']}, 'phone': '+33182280080', 'display_phone': '+33 1 82 28 00 80', 'distance': 510.5484779496841}, {'id': '28m3vU-aLX76lMEyT3WL5Q', 'alias': 'pain-vin-fromages-paris', 'name': 'Pain Vin Fromages', 'image_url': 'https://s3-media2.fl.yelpcdn.com/bphoto/gBaxX3MHScEyCWpLGzG2Ew/o.jpg', 'is_closed': False, 'url': 'https://www.yelp.com/biz/pain-vin-fromages-paris?adjust_creative=v58aGL3xcKISGlGiUDxxtg&utm_campaign=yelp_api_v3&utm_medium=api_v3_business_search&utm_source=v58aGL3xcKISGlGiUDxxtg', 'review_count': 265, 'categories': [{'alias': 'fondue', 'title': 'Fondue'}], 'rating': 4.5, 'coordinates': {'latitude': 48.860525, 'longitude': 2.354439}, 'transactions': [], 'price': '€€', 'location': {'address1': \"3 rue Geoffroy-l'Angevin\", 'address2': None, 'address3': None, 'city': 'Paris', 'zip_code': '75004', 'country': 'FR', 'state': '75', 'display_address': [\"3 rue Geoffroy-l'Angevin\", '75004 Paris', 'France']}, 'phone': '+33142740752', 'display_phone': '+33 1 42 74 07 52', 'distance': 1119.304490169397}, {'id': 'R32xFyfvdXSKsJt_QX-1hw', 'alias': 'soya-paris', 'name': 'Soya', 'image_url': 'https://s3-media4.fl.yelpcdn.com/bphoto/GvKOAFQ99lldwehgR0rQQg/o.jpg', 'is_closed': False, 'url': 'https://www.yelp.com/biz/soya-paris?adjust_creative=v58aGL3xcKISGlGiUDxxtg&utm_campaign=yelp_api_v3&utm_medium=api_v3_business_search&utm_source=v58aGL3xcKISGlGiUDxxtg', 'review_count': 175, 'categories': [{'alias': 'breakfast_brunch', 'title': 'Breakfast & Brunch'}, {'alias': 'vegan', 'title': 'Vegan'}, {'alias': 'gluten_free', 'title': 'Gluten-Free'}], 'rating': 4.0, 'coordinates': {'latitude': 48.86805, 'longitude': 2.370184}, 'transactions': [], 'price': '€€€', 'location': {'address1': '20 rue de la Pierre Levée', 'address2': None, 'address3': None, 'city': 'Paris', 'zip_code': '75011', 'country': 'FR', 'state': '75', 'display_address': ['20 rue de la Pierre Levée', '75011 Paris', 'France']}, 'phone': '+33983284845', 'display_phone': '+33 9 83 28 48 45', 'distance': 387.1245955406252}, {'id': 'OlKlrqbTx94iMPuakMs0Pw', 'alias': 'du-pain-et-des-idées-paris-10-2', 'name': 'Du Pain et des Idées', 'image_url': 'https://s3-media3.fl.yelpcdn.com/bphoto/dnC4NDpMIz_Ng7N6-VEPXw/o.jpg', 'is_closed': False, 'url': 'https://www.yelp.com/biz/du-pain-et-des-id%C3%A9es-paris-10-2?adjust_creative=v58aGL3xcKISGlGiUDxxtg&utm_campaign=yelp_api_v3&utm_medium=api_v3_business_search&utm_source=v58aGL3xcKISGlGiUDxxtg', 'review_count': 481, 'categories': [{'alias': 'bakeries', 'title': 'Bakeries'}], 'rating': 4.5, 'coordinates': {'latitude': 48.8712, 'longitude': 2.3628999}, 'transactions': [], 'price': '€', 'location': {'address1': '34 rue Yves Toudic', 'address2': None, 'address3': None, 'city': 'Paris 10', 'zip_code': '75010', 'country': 'FR', 'state': '75', 'display_address': ['34 rue Yves Toudic', '75010 Paris 10', 'France']}, 'phone': '+33142404452', 'display_phone': '+33 1 42 40 44 52', 'distance': 402.7664007712672}, {'id': '9JlRu52-YkQej4Dzx5s4Uw', 'alias': 'shake-n-smash-paris', 'name': \"Shake n' Smash\", 'image_url': 'https://s3-media3.fl.yelpcdn.com/bphoto/zUdIq3JBnicCQrTXuNzl2g/o.jpg', 'is_closed': False, 'url': 'https://www.yelp.com/biz/shake-n-smash-paris?adjust_creative=v58aGL3xcKISGlGiUDxxtg&utm_campaign=yelp_api_v3&utm_medium=api_v3_business_search&utm_source=v58aGL3xcKISGlGiUDxxtg', 'review_count': 35, 'categories': [{'alias': 'cocktailbars', 'title': 'Cocktail Bars'}], 'rating': 4.5, 'coordinates': {'latitude': 48.866808, 'longitude': 2.361149}, 'transactions': [], 'price': '€€', 'location': {'address1': '87 rue de Turbigo', 'address2': None, 'address3': '', 'city': 'Paris', 'zip_code': '75003', 'country': 'FR', 'state': '75', 'display_address': ['87 rue de Turbigo', '75003 Paris', 'France']}, 'phone': '+33142723076', 'display_phone': '+33 1 42 72 30 76', 'distance': 298.6884776242586}, {'id': 'dzGSIiOvXBARAeLe-2uY8g', 'alias': 'l-epicerie-musicale-paris', 'name': \"L'Epicerie Musicale\", 'image_url': 'https://s3-media3.fl.yelpcdn.com/bphoto/BVhTGk-A3rAtPD9shj3zsA/o.jpg', 'is_closed': False, 'url': 'https://www.yelp.com/biz/l-epicerie-musicale-paris?adjust_creative=v58aGL3xcKISGlGiUDxxtg&utm_campaign=yelp_api_v3&utm_medium=api_v3_business_search&utm_source=v58aGL3xcKISGlGiUDxxtg', 'review_count': 29, 'categories': [{'alias': 'italian', 'title': 'Italian'}, {'alias': 'convenience', 'title': 'Convenience Stores'}, {'alias': 'breakfast_brunch', 'title': 'Breakfast & Brunch'}], 'rating': 4.5, 'coordinates': {'latitude': 48.8706530985989, 'longitude': 2.36546493890072}, 'transactions': [], 'price': '€€', 'location': {'address1': '55 bis quai de Valmy', 'address2': '', 'address3': '', 'city': 'Paris', 'zip_code': '75010', 'country': 'FR', 'state': '75', 'display_address': ['55 bis quai de Valmy', '75010 Paris', 'France']}, 'phone': '+33751653802', 'display_phone': '+33 7 51 65 38 02', 'distance': 311.95597342901556}], 'total': 1700, 'region': {'center': {'longitude': 2.3648982158072, 'latitude': 48.867872484749}}}\n"
     ]
    },
    {
     "name": "stderr",
     "output_type": "stream",
     "text": [
      "Processing Stations:   0%|          | 4/1462 [00:01<11:24,  2.13it/s]"
     ]
    },
    {
     "name": "stdout",
     "output_type": "stream",
     "text": [
      "{'businesses': [{'id': '-0iLH7iQNYtoURciDpJf6w', 'alias': 'le-comptoir-de-la-gastronomie-paris', 'name': 'Le Comptoir de la Gastronomie', 'image_url': 'https://s3-media3.fl.yelpcdn.com/bphoto/xT4YkCm_cZWbKbz9AVEnaA/o.jpg', 'is_closed': False, 'url': 'https://www.yelp.com/biz/le-comptoir-de-la-gastronomie-paris?adjust_creative=v58aGL3xcKISGlGiUDxxtg&utm_campaign=yelp_api_v3&utm_medium=api_v3_business_search&utm_source=v58aGL3xcKISGlGiUDxxtg', 'review_count': 1299, 'categories': [{'alias': 'french', 'title': 'French'}], 'rating': 4.5, 'coordinates': {'latitude': 48.8645157999652, 'longitude': 2.34540185646608}, 'transactions': [], 'price': '€€', 'location': {'address1': '34 rue Montmartre', 'address2': '', 'address3': '', 'city': 'Paris', 'zip_code': '75001', 'country': 'FR', 'state': '75', 'display_address': ['34 rue Montmartre', '75001 Paris', 'France']}, 'phone': '+33142333132', 'display_phone': '+33 1 42 33 31 32', 'distance': 1183.0595587559897}, {'id': 'ctP4c3mwVO5oOzLI48LtuQ', 'alias': 'les-antiquaires-paris', 'name': 'Les Antiquaires', 'image_url': 'https://s3-media1.fl.yelpcdn.com/bphoto/5NWC7VJSVWfNO4BXs_8i_A/o.jpg', 'is_closed': False, 'url': 'https://www.yelp.com/biz/les-antiquaires-paris?adjust_creative=v58aGL3xcKISGlGiUDxxtg&utm_campaign=yelp_api_v3&utm_medium=api_v3_business_search&utm_source=v58aGL3xcKISGlGiUDxxtg', 'review_count': 467, 'categories': [{'alias': 'bistros', 'title': 'Bistros'}], 'rating': 4.5, 'coordinates': {'latitude': 48.8580664639432, 'longitude': 2.32823697067099}, 'transactions': [], 'price': '€€€', 'location': {'address1': '13 rue du Bac', 'address2': '', 'address3': '', 'city': 'Paris', 'zip_code': '75007', 'country': 'FR', 'state': '75', 'display_address': ['13 rue du Bac', '75007 Paris', 'France']}, 'phone': '+33142610836', 'display_phone': '+33 1 42 61 08 36', 'distance': 516.166236209099}, {'id': '2qzLbDM1dkpsKyyCXAEXWw', 'alias': 'guy-savoy-paris-3', 'name': 'Guy Savoy', 'image_url': 'https://s3-media3.fl.yelpcdn.com/bphoto/WFc_65erqcdcypw5I-_oMA/o.jpg', 'is_closed': False, 'url': 'https://www.yelp.com/biz/guy-savoy-paris-3?adjust_creative=v58aGL3xcKISGlGiUDxxtg&utm_campaign=yelp_api_v3&utm_medium=api_v3_business_search&utm_source=v58aGL3xcKISGlGiUDxxtg', 'review_count': 90, 'categories': [{'alias': 'french', 'title': 'French'}], 'rating': 4.5, 'coordinates': {'latitude': 48.857, 'longitude': 2.3386999}, 'transactions': [], 'price': '€€€€', 'location': {'address1': 'Monnaie de Paris', 'address2': '11 quai de Conti', 'address3': '', 'city': 'Paris', 'zip_code': '75006', 'country': 'FR', 'state': '75', 'display_address': ['Monnaie de Paris', '11 quai de Conti', '75006 Paris', 'France']}, 'phone': '+33143804061', 'display_phone': '+33 1 43 80 40 61', 'distance': 286.2226006645267}, {'id': 'ZPucE7gYfhbogf7ABpwSqQ', 'alias': 'galette-café-paris-4', 'name': 'Galette Café', 'image_url': 'https://s3-media1.fl.yelpcdn.com/bphoto/jtqdJURH4ns5LW_jsUAiag/o.jpg', 'is_closed': False, 'url': 'https://www.yelp.com/biz/galette-caf%C3%A9-paris-4?adjust_creative=v58aGL3xcKISGlGiUDxxtg&utm_campaign=yelp_api_v3&utm_medium=api_v3_business_search&utm_source=v58aGL3xcKISGlGiUDxxtg', 'review_count': 114, 'categories': [{'alias': 'creperies', 'title': 'Creperies'}], 'rating': 4.5, 'coordinates': {'latitude': 48.85643, 'longitude': 2.33153}, 'transactions': [], 'price': '€€', 'location': {'address1': \"2 rue de l'Université\", 'address2': '', 'address3': '', 'city': 'Paris', 'zip_code': '75007', 'country': 'FR', 'state': '75', 'display_address': [\"2 rue de l'Université\", '75007 Paris', 'France']}, 'phone': '+33142602204', 'display_phone': '+33 1 42 60 22 04', 'distance': 235.4755208562098}, {'id': 'ecKErQELcFy4x-6wbgh8eA', 'alias': 'fish-la-boissonnerie-paris-2', 'name': 'Fish la Boissonnerie', 'image_url': 'https://s3-media3.fl.yelpcdn.com/bphoto/_VNx0osYecmFclTU0FeHvQ/o.jpg', 'is_closed': False, 'url': 'https://www.yelp.com/biz/fish-la-boissonnerie-paris-2?adjust_creative=v58aGL3xcKISGlGiUDxxtg&utm_campaign=yelp_api_v3&utm_medium=api_v3_business_search&utm_source=v58aGL3xcKISGlGiUDxxtg', 'review_count': 137, 'categories': [{'alias': 'french', 'title': 'French'}, {'alias': 'bars', 'title': 'Bars'}, {'alias': 'modern_european', 'title': 'Modern European'}], 'rating': 4.5, 'coordinates': {'latitude': 48.85423, 'longitude': 2.33699}, 'transactions': [], 'price': '€€€', 'location': {'address1': '69 rue de Seine', 'address2': None, 'address3': None, 'city': 'Paris', 'zip_code': '75006', 'country': 'FR', 'state': '75', 'display_address': ['69 rue de Seine', '75006 Paris', 'France']}, 'phone': '+33143543469', 'display_phone': '+33 1 43 54 34 69', 'distance': 294.1726516833999}, {'id': 'MsDztnnHceaGNZ2sfw6ThQ', 'alias': 'semilla-paris', 'name': 'Semilla', 'image_url': 'https://s3-media2.fl.yelpcdn.com/bphoto/ezNtGSGo-fUlibrxewNraQ/o.jpg', 'is_closed': False, 'url': 'https://www.yelp.com/biz/semilla-paris?adjust_creative=v58aGL3xcKISGlGiUDxxtg&utm_campaign=yelp_api_v3&utm_medium=api_v3_business_search&utm_source=v58aGL3xcKISGlGiUDxxtg', 'review_count': 107, 'categories': [{'alias': 'french', 'title': 'French'}, {'alias': 'brasseries', 'title': 'Brasseries'}], 'rating': 4.0, 'coordinates': {'latitude': 48.85406, 'longitude': 2.33691}, 'transactions': [], 'price': '€€€', 'location': {'address1': '54 Rue Seine', 'address2': '', 'address3': '', 'city': 'Paris', 'zip_code': '75006', 'country': 'FR', 'state': '75', 'display_address': ['54 Rue Seine', '75006 Paris', 'France']}, 'phone': '+33143543450', 'display_phone': '+33 1 43 54 34 50', 'distance': 305.6413004610365}, {'id': 'nnAxF4EKaf7yLbLGxkShmQ', 'alias': 'le-calife-paris-2', 'name': 'Le Calife', 'image_url': 'https://s3-media1.fl.yelpcdn.com/bphoto/jH-AAl3-ERJZcX6AcWlB7A/o.jpg', 'is_closed': False, 'url': 'https://www.yelp.com/biz/le-calife-paris-2?adjust_creative=v58aGL3xcKISGlGiUDxxtg&utm_campaign=yelp_api_v3&utm_medium=api_v3_business_search&utm_source=v58aGL3xcKISGlGiUDxxtg', 'review_count': 104, 'categories': [{'alias': 'french', 'title': 'French'}], 'rating': 4.5, 'coordinates': {'latitude': 48.8583205, 'longitude': 2.3346584}, 'transactions': [], 'price': '€€€€', 'location': {'address1': 'Port des Saints Pères', 'address2': '', 'address3': None, 'city': 'Paris', 'zip_code': '75006', 'country': 'FR', 'state': '75', 'display_address': ['Port des Saints Pères', '75006 Paris', 'France']}, 'phone': '+33143545004', 'display_phone': '+33 1 43 54 50 04', 'distance': 208.25073867355755}, {'id': 'Vc-sEV8jnXpHbFeUvP5tLA', 'alias': 'le-relais-de-l-entrecôte-paris-4', 'name': \"Le Relais de l'Entrecôte\", 'image_url': 'https://s3-media2.fl.yelpcdn.com/bphoto/VMKPt5fG6PNQn0XnmDvYXQ/o.jpg', 'is_closed': False, 'url': 'https://www.yelp.com/biz/le-relais-de-l-entrec%C3%B4te-paris-4?adjust_creative=v58aGL3xcKISGlGiUDxxtg&utm_campaign=yelp_api_v3&utm_medium=api_v3_business_search&utm_source=v58aGL3xcKISGlGiUDxxtg', 'review_count': 513, 'categories': [{'alias': 'steak', 'title': 'Steakhouses'}], 'rating': 4.0, 'coordinates': {'latitude': 48.85469, 'longitude': 2.3329}, 'transactions': [], 'price': '€€€', 'location': {'address1': '20 rue Saint Benoît', 'address2': None, 'address3': None, 'city': 'Paris', 'zip_code': '75006', 'country': 'FR', 'state': '75', 'display_address': ['20 rue Saint Benoît', '75006 Paris', 'France']}, 'phone': '+33145491600', 'display_phone': '+33 1 45 49 16 00', 'distance': 242.4433365817751}, {'id': 'M9ztl2Y39opaY4sCQ7FpZQ', 'alias': 'le-restaurant-paris-2', 'name': 'Le Restaurant', 'image_url': 'https://s3-media3.fl.yelpcdn.com/bphoto/r-Z5unGy4nbRw2vTjmCe4g/o.jpg', 'is_closed': False, 'url': 'https://www.yelp.com/biz/le-restaurant-paris-2?adjust_creative=v58aGL3xcKISGlGiUDxxtg&utm_campaign=yelp_api_v3&utm_medium=api_v3_business_search&utm_source=v58aGL3xcKISGlGiUDxxtg', 'review_count': 36, 'categories': [{'alias': 'french', 'title': 'French'}, {'alias': 'breakfast_brunch', 'title': 'Breakfast & Brunch'}], 'rating': 4.5, 'coordinates': {'latitude': 48.85635, 'longitude': 2.33524}, 'transactions': [], 'price': '€€€€', 'location': {'address1': '13 rue des Beaux-Arts', 'address2': '', 'address3': '', 'city': 'Paris', 'zip_code': '75006', 'country': 'FR', 'state': '75', 'display_address': ['13 rue des Beaux-Arts', '75006 Paris', 'France']}, 'phone': '+33144419901', 'display_phone': '+33 1 44 41 99 01', 'distance': 31.29529513011397}, {'id': 'cEjF41ZQB8-SST8cd3EsEw', 'alias': 'l-avant-comptoir-paris-3', 'name': \"L'Avant Comptoir\", 'image_url': 'https://s3-media2.fl.yelpcdn.com/bphoto/V38oU4jfwMlY8Ue3vb-dBQ/o.jpg', 'is_closed': False, 'url': 'https://www.yelp.com/biz/l-avant-comptoir-paris-3?adjust_creative=v58aGL3xcKISGlGiUDxxtg&utm_campaign=yelp_api_v3&utm_medium=api_v3_business_search&utm_source=v58aGL3xcKISGlGiUDxxtg', 'review_count': 657, 'categories': [{'alias': 'tapas', 'title': 'Tapas Bars'}, {'alias': 'wine_bars', 'title': 'Wine Bars'}], 'rating': 4.5, 'coordinates': {'latitude': 48.85202, 'longitude': 2.3388}, 'transactions': [], 'price': '€€', 'location': {'address1': \"3 carrefour de l'Odéon\", 'address2': '', 'address3': '', 'city': 'Paris', 'zip_code': '75006', 'country': 'FR', 'state': '75', 'display_address': [\"3 carrefour de l'Odéon\", '75006 Paris', 'France']}, 'phone': '+33142384755', 'display_phone': '+33 1 42 38 47 55', 'distance': 573.86285318389}, {'id': 'pztzge22A_c_BfzLHCmaMw', 'alias': 'le-bistro-du-périgord-paris-3', 'name': 'Le Bistro du Périgord', 'image_url': 'https://s3-media1.fl.yelpcdn.com/bphoto/kT9tcdFokBM__2aZIi8LcQ/o.jpg', 'is_closed': False, 'url': 'https://www.yelp.com/biz/le-bistro-du-p%C3%A9rigord-paris-3?adjust_creative=v58aGL3xcKISGlGiUDxxtg&utm_campaign=yelp_api_v3&utm_medium=api_v3_business_search&utm_source=v58aGL3xcKISGlGiUDxxtg', 'review_count': 377, 'categories': [{'alias': 'bistros', 'title': 'Bistros'}], 'rating': 4.5, 'coordinates': {'latitude': 48.8498092201519, 'longitude': 2.34515282327701}, 'transactions': [], 'price': '€€€', 'location': {'address1': '71 rue Saint-Jacques', 'address2': '', 'address3': '', 'city': 'Paris', 'zip_code': '75005', 'country': 'FR', 'state': '75', 'display_address': ['71 rue Saint-Jacques', '75005 Paris', 'France']}, 'phone': '+33143296749', 'display_phone': '+33 1 43 29 67 49', 'distance': 1055.2771826273977}, {'id': 'n-XIbgR-Gwb1CqBMyjwj0w', 'alias': 'chez-fernand-paris', 'name': 'Chez Fernand', 'image_url': 'https://s3-media4.fl.yelpcdn.com/bphoto/bM8eBinKBCStRy5ye5oi8w/o.jpg', 'is_closed': False, 'url': 'https://www.yelp.com/biz/chez-fernand-paris?adjust_creative=v58aGL3xcKISGlGiUDxxtg&utm_campaign=yelp_api_v3&utm_medium=api_v3_business_search&utm_source=v58aGL3xcKISGlGiUDxxtg', 'review_count': 231, 'categories': [{'alias': 'french', 'title': 'French'}], 'rating': 4.5, 'coordinates': {'latitude': 48.85461, 'longitude': 2.33954}, 'transactions': [], 'price': '€€€', 'location': {'address1': '9 rue Christine', 'address2': None, 'address3': None, 'city': 'Paris', 'zip_code': '75006', 'country': 'FR', 'state': '75', 'display_address': ['9 rue Christine', '75006 Paris', 'France']}, 'phone': '+33143251855', 'display_phone': '+33 1 43 25 18 55', 'distance': 399.4915774730591}, {'id': '_MNAGLsoe_vihaXk6tpffw', 'alias': 'le-bistrot-d-henri-paris', 'name': \"Le Bistrot d'Henri\", 'image_url': 'https://s3-media2.fl.yelpcdn.com/bphoto/ziFOcBCYSHHxGIHWFNkGvA/o.jpg', 'is_closed': False, 'url': 'https://www.yelp.com/biz/le-bistrot-d-henri-paris?adjust_creative=v58aGL3xcKISGlGiUDxxtg&utm_campaign=yelp_api_v3&utm_medium=api_v3_business_search&utm_source=v58aGL3xcKISGlGiUDxxtg', 'review_count': 135, 'categories': [{'alias': 'french', 'title': 'French'}], 'rating': 4.5, 'coordinates': {'latitude': 48.852067, 'longitude': 2.334431}, 'transactions': [], 'price': '€€€', 'location': {'address1': '16 rue Princesse', 'address2': None, 'address3': None, 'city': 'Paris', 'zip_code': '75006', 'country': 'FR', 'state': '75', 'display_address': ['16 rue Princesse', '75006 Paris', 'France']}, 'phone': '+33146335112', 'display_phone': '+33 1 46 33 51 12', 'distance': 488.558989238044}, {'id': 'NqYcDu7yQl39he7uf_nwTg', 'alias': 'le-pré-aux-clercs-paris-2', 'name': 'Le Pré aux Clercs', 'image_url': 'https://s3-media4.fl.yelpcdn.com/bphoto/o_xrpBmOEaDTdCOjOVKZVA/o.jpg', 'is_closed': False, 'url': 'https://www.yelp.com/biz/le-pr%C3%A9-aux-clercs-paris-2?adjust_creative=v58aGL3xcKISGlGiUDxxtg&utm_campaign=yelp_api_v3&utm_medium=api_v3_business_search&utm_source=v58aGL3xcKISGlGiUDxxtg', 'review_count': 79, 'categories': [{'alias': 'french', 'title': 'French'}, {'alias': 'bars', 'title': 'Bars'}], 'rating': 3.5, 'coordinates': {'latitude': 48.8554, 'longitude': 2.33383}, 'transactions': [], 'price': '€€', 'location': {'address1': '30 rue Bonaparte', 'address2': '', 'address3': '', 'city': 'Paris', 'zip_code': '75006', 'country': 'FR', 'state': '75', 'display_address': ['30 rue Bonaparte', '75006 Paris', 'France']}, 'phone': '+33143544173', 'display_phone': '+33 1 43 54 41 73', 'distance': 135.8954055370107}, {'id': 'arT8b1fhGKwMzZ4WsaXUww', 'alias': 'eggs-et-co-paris', 'name': 'Eggs & Co', 'image_url': 'https://s3-media1.fl.yelpcdn.com/bphoto/JoMTSRKtvYO4PluG-rOltA/o.jpg', 'is_closed': False, 'url': 'https://www.yelp.com/biz/eggs-et-co-paris?adjust_creative=v58aGL3xcKISGlGiUDxxtg&utm_campaign=yelp_api_v3&utm_medium=api_v3_business_search&utm_source=v58aGL3xcKISGlGiUDxxtg', 'review_count': 384, 'categories': [{'alias': 'breakfast_brunch', 'title': 'Breakfast & Brunch'}], 'rating': 4.5, 'coordinates': {'latitude': 48.853123, 'longitude': 2.331244}, 'transactions': [], 'price': '€€', 'location': {'address1': '11 rue Bernard Palissy', 'address2': '', 'address3': '', 'city': 'Paris', 'zip_code': '75006', 'country': 'FR', 'state': '75', 'display_address': ['11 rue Bernard Palissy', '75006 Paris', 'France']}, 'phone': '+33145440252', 'display_phone': '+33 1 45 44 02 52', 'distance': 454.64181418400375}, {'id': 'M2cBDqDCDM6kZZqaYhXRuw', 'alias': 'ladurée-paris-12', 'name': 'Ladurée', 'image_url': 'https://s3-media3.fl.yelpcdn.com/bphoto/I1ZAKgfyER5MxiMnUpIBug/o.jpg', 'is_closed': False, 'url': 'https://www.yelp.com/biz/ladur%C3%A9e-paris-12?adjust_creative=v58aGL3xcKISGlGiUDxxtg&utm_campaign=yelp_api_v3&utm_medium=api_v3_business_search&utm_source=v58aGL3xcKISGlGiUDxxtg', 'review_count': 319, 'categories': [{'alias': 'tea', 'title': 'Tea Rooms'}, {'alias': 'macarons', 'title': 'Macarons'}, {'alias': 'cakeshop', 'title': 'Patisserie/Cake Shop'}], 'rating': 4.0, 'coordinates': {'latitude': 48.8555969, 'longitude': 2.334102}, 'transactions': [], 'price': '€€€', 'location': {'address1': '21 rue Bonaparte', 'address2': None, 'address3': None, 'city': 'Paris', 'zip_code': '75006', 'country': 'FR', 'state': '75', 'display_address': ['21 rue Bonaparte', '75006 Paris', 'France']}, 'phone': '+33144076487', 'display_phone': '+33 1 44 07 64 87', 'distance': 109.77371910188225}, {'id': 'vxz_Uq_hH_Ack1Av1HUbjw', 'alias': 'huitrerie-régis-paris-4', 'name': 'Huitrerie Régis', 'image_url': 'https://s3-media3.fl.yelpcdn.com/bphoto/QWXwvVOFw0oToAngQs0N9g/o.jpg', 'is_closed': False, 'url': 'https://www.yelp.com/biz/huitrerie-r%C3%A9gis-paris-4?adjust_creative=v58aGL3xcKISGlGiUDxxtg&utm_campaign=yelp_api_v3&utm_medium=api_v3_business_search&utm_source=v58aGL3xcKISGlGiUDxxtg', 'review_count': 100, 'categories': [{'alias': 'seafood', 'title': 'Seafood'}], 'rating': 4.5, 'coordinates': {'latitude': 48.852768, 'longitude': 2.336005}, 'transactions': [], 'price': '€€€', 'location': {'address1': '3 rue de Montfaucon', 'address2': '', 'address3': '', 'city': 'Paris', 'zip_code': '75006', 'country': 'FR', 'state': '75', 'display_address': ['3 rue de Montfaucon', '75006 Paris', 'France']}, 'phone': '+33144411007', 'display_phone': '+33 1 44 41 10 07', 'distance': 418.2373750717176}, {'id': 'AtaYhOa_2laBNl21ON2b2Q', 'alias': 'fajitas-paris', 'name': 'Fajitas', 'image_url': 'https://s3-media3.fl.yelpcdn.com/bphoto/ALzp4gpsJrBnGy3yYY4Lsg/o.jpg', 'is_closed': False, 'url': 'https://www.yelp.com/biz/fajitas-paris?adjust_creative=v58aGL3xcKISGlGiUDxxtg&utm_campaign=yelp_api_v3&utm_medium=api_v3_business_search&utm_source=v58aGL3xcKISGlGiUDxxtg', 'review_count': 164, 'categories': [{'alias': 'mexican', 'title': 'Mexican'}], 'rating': 4.0, 'coordinates': {'latitude': 48.8555801, 'longitude': 2.3400906}, 'transactions': [], 'price': '€€', 'location': {'address1': '15 rue Dauphine', 'address2': '', 'address3': '', 'city': 'Paris', 'zip_code': '75006', 'country': 'FR', 'state': '75', 'display_address': ['15 rue Dauphine', '75006 Paris', 'France']}, 'phone': '+33146344469', 'display_phone': '+33 1 46 34 44 69', 'distance': 395.3414846281806}, {'id': 'k-M_yyUEhklZeji5l7do4g', 'alias': 'au-pied-de-fouet-paris-2', 'name': 'Au Pied de Fouet', 'image_url': 'https://s3-media1.fl.yelpcdn.com/bphoto/A53jND3mWQkdDAVoxWFTFw/o.jpg', 'is_closed': False, 'url': 'https://www.yelp.com/biz/au-pied-de-fouet-paris-2?adjust_creative=v58aGL3xcKISGlGiUDxxtg&utm_campaign=yelp_api_v3&utm_medium=api_v3_business_search&utm_source=v58aGL3xcKISGlGiUDxxtg', 'review_count': 71, 'categories': [{'alias': 'french', 'title': 'French'}], 'rating': 4.0, 'coordinates': {'latitude': 48.85542, 'longitude': 2.33333}, 'transactions': [], 'price': '€€', 'location': {'address1': '3 rue Saint Benoît', 'address2': None, 'address3': None, 'city': 'Paris', 'zip_code': '75006', 'country': 'FR', 'state': '75', 'display_address': ['3 rue Saint Benoît', '75006 Paris', 'France']}, 'phone': '+33142965910', 'display_phone': '+33 1 42 96 59 10', 'distance': 159.89085428556436}, {'id': 'neoK8vQyvWiNXtnlTCCG6w', 'alias': 'huguette-paris-2', 'name': 'Huguette', 'image_url': 'https://s3-media2.fl.yelpcdn.com/bphoto/huQM14xxfr9n6Xk0-RL9ug/o.jpg', 'is_closed': False, 'url': 'https://www.yelp.com/biz/huguette-paris-2?adjust_creative=v58aGL3xcKISGlGiUDxxtg&utm_campaign=yelp_api_v3&utm_medium=api_v3_business_search&utm_source=v58aGL3xcKISGlGiUDxxtg', 'review_count': 69, 'categories': [{'alias': 'seafood', 'title': 'Seafood'}], 'rating': 4.0, 'coordinates': {'latitude': 48.8532753282413, 'longitude': 2.337029}, 'transactions': [], 'price': '€€', 'location': {'address1': '81 rue de Seine', 'address2': '', 'address3': '', 'city': 'Paris', 'zip_code': '75006', 'country': 'FR', 'state': '75', 'display_address': ['81 rue de Seine', '75006 Paris', 'France']}, 'phone': '+33143250028', 'display_phone': '+33 1 43 25 00 28', 'distance': 387.4805308719385}], 'total': 1700, 'region': {'center': {'longitude': 2.334851883351803, 'latitude': 48.856451985395786}}}\n"
     ]
    },
    {
     "name": "stderr",
     "output_type": "stream",
     "text": [
      "Processing Stations:   0%|          | 4/1462 [00:02<14:20,  1.69it/s]"
     ]
    },
    {
     "name": "stdout",
     "output_type": "stream",
     "text": [
      "{'businesses': [{'id': 'ZpVf9wbJMKAogWgJhcMqZg', 'alias': 'pink-mamma-paris', 'name': 'Pink Mamma', 'image_url': 'https://s3-media1.fl.yelpcdn.com/bphoto/okfnivvKXKSDrtY4qUqoWg/o.jpg', 'is_closed': False, 'url': 'https://www.yelp.com/biz/pink-mamma-paris?adjust_creative=v58aGL3xcKISGlGiUDxxtg&utm_campaign=yelp_api_v3&utm_medium=api_v3_business_search&utm_source=v58aGL3xcKISGlGiUDxxtg', 'review_count': 408, 'categories': [{'alias': 'steak', 'title': 'Steakhouses'}, {'alias': 'bbq', 'title': 'Barbeque'}, {'alias': 'italian', 'title': 'Italian'}], 'rating': 4.0, 'coordinates': {'latitude': 48.88187, 'longitude': 2.3346}, 'transactions': [], 'price': '€€€', 'location': {'address1': '20 bis rue de Douai', 'address2': '', 'address3': None, 'city': 'Paris', 'zip_code': '75009', 'country': 'FR', 'state': '75', 'display_address': ['20 bis rue de Douai', '75009 Paris', 'France']}, 'phone': '+33983559452', 'display_phone': '+33 9 83 55 94 52', 'distance': 358.534355262584}, {'id': 'EbdyO1nigcLi2EwMMZqEIw', 'alias': 'le-pantruche-paris', 'name': 'Le Pantruche', 'image_url': 'https://s3-media4.fl.yelpcdn.com/bphoto/Y8GinRX9LJTpE4betCZN8A/o.jpg', 'is_closed': False, 'url': 'https://www.yelp.com/biz/le-pantruche-paris?adjust_creative=v58aGL3xcKISGlGiUDxxtg&utm_campaign=yelp_api_v3&utm_medium=api_v3_business_search&utm_source=v58aGL3xcKISGlGiUDxxtg', 'review_count': 78, 'categories': [{'alias': 'french', 'title': 'French'}], 'rating': 4.5, 'coordinates': {'latitude': 48.88046, 'longitude': 2.3402}, 'transactions': [], 'price': '€€€', 'location': {'address1': '3 rue Victor Massé', 'address2': '', 'address3': '', 'city': 'Paris', 'zip_code': '75009', 'country': 'FR', 'state': '75', 'display_address': ['3 rue Victor Massé', '75009 Paris', 'France']}, 'phone': '+33148785560', 'display_phone': '+33 1 48 78 55 60', 'distance': 244.70878462155056}, {'id': '0LWYIquAih1C8g3106uoyg', 'alias': 'buvette-gastrothèque-paris', 'name': 'Buvette Gastrothèque', 'image_url': 'https://s3-media1.fl.yelpcdn.com/bphoto/DEFSBbzZpMXlQQZFLJy3DA/o.jpg', 'is_closed': False, 'url': 'https://www.yelp.com/biz/buvette-gastroth%C3%A8que-paris?adjust_creative=v58aGL3xcKISGlGiUDxxtg&utm_campaign=yelp_api_v3&utm_medium=api_v3_business_search&utm_source=v58aGL3xcKISGlGiUDxxtg', 'review_count': 128, 'categories': [{'alias': 'french', 'title': 'French'}, {'alias': 'wine_bars', 'title': 'Wine Bars'}], 'rating': 4.0, 'coordinates': {'latitude': 48.8804470273044, 'longitude': 2.33758428078072}, 'transactions': [], 'price': '€€', 'location': {'address1': '28 rue Henri Monnier', 'address2': '', 'address3': '', 'city': 'Paris', 'zip_code': '75009', 'country': 'FR', 'state': '75', 'display_address': ['28 rue Henri Monnier', '75009 Paris', 'France']}, 'phone': '+33144634171', 'display_phone': '+33 1 44 63 41 71', 'distance': 129.04313475171372}, {'id': 'QIM8oqMFvghc4ugr08NbbA', 'alias': 'les-canailles-paris', 'name': 'Les Canailles', 'image_url': 'https://s3-media3.fl.yelpcdn.com/bphoto/tgyYNirKCxkwvKqgyWUQ5g/o.jpg', 'is_closed': False, 'url': 'https://www.yelp.com/biz/les-canailles-paris?adjust_creative=v58aGL3xcKISGlGiUDxxtg&utm_campaign=yelp_api_v3&utm_medium=api_v3_business_search&utm_source=v58aGL3xcKISGlGiUDxxtg', 'review_count': 35, 'categories': [{'alias': 'french', 'title': 'French'}], 'rating': 4.5, 'coordinates': {'latitude': 48.8792768, 'longitude': 2.3345899}, 'transactions': [], 'price': '€€€', 'location': {'address1': '25 Rue La Bruyère', 'address2': '', 'address3': '', 'city': 'Paris', 'zip_code': '75009', 'country': 'FR', 'state': '75', 'display_address': ['25 Rue La Bruyère', '75009 Paris', 'France']}, 'phone': '+33148741048', 'display_phone': '+33 1 48 74 10 48', 'distance': 202.58640009629042}, {'id': '7JZvFiCTZxoUHjTjQ2JT2Q', 'alias': 'maison-landemaine-paris', 'name': 'Maison Landemaine', 'image_url': 'https://s3-media4.fl.yelpcdn.com/bphoto/SJrS5Z_r_yII8AVzrAwJyQ/o.jpg', 'is_closed': False, 'url': 'https://www.yelp.com/biz/maison-landemaine-paris?adjust_creative=v58aGL3xcKISGlGiUDxxtg&utm_campaign=yelp_api_v3&utm_medium=api_v3_business_search&utm_source=v58aGL3xcKISGlGiUDxxtg', 'review_count': 25, 'categories': [{'alias': 'bakeries', 'title': 'Bakeries'}, {'alias': 'salad', 'title': 'Salad'}, {'alias': 'sandwiches', 'title': 'Sandwiches'}], 'rating': 4.5, 'coordinates': {'latitude': 48.87832, 'longitude': 2.33975}, 'transactions': [], 'price': '€€', 'location': {'address1': '26 rue des Martyrs', 'address2': '', 'address3': '', 'city': 'Paris', 'zip_code': '75009', 'country': 'FR', 'state': '75', 'display_address': ['26 rue des Martyrs', '75009 Paris', 'France']}, 'phone': '+33140160342', 'display_phone': '+33 1 40 16 03 42', 'distance': 215.7364756336705}, {'id': 'eoUCWArm9w8kXtyA0N7MoQ', 'alias': 'aspic-paris-3', 'name': 'ASPIC', 'image_url': 'https://s3-media4.fl.yelpcdn.com/bphoto/agLStclo624Bgb9flwuzKA/o.jpg', 'is_closed': False, 'url': 'https://www.yelp.com/biz/aspic-paris-3?adjust_creative=v58aGL3xcKISGlGiUDxxtg&utm_campaign=yelp_api_v3&utm_medium=api_v3_business_search&utm_source=v58aGL3xcKISGlGiUDxxtg', 'review_count': 28, 'categories': [{'alias': 'french', 'title': 'French'}], 'rating': 5.0, 'coordinates': {'latitude': 48.87918, 'longitude': 2.34367}, 'transactions': [], 'price': '€€€€', 'location': {'address1': \"24 rue de la Tour d'Auvergne\", 'address2': None, 'address3': '', 'city': 'Paris', 'zip_code': '75009', 'country': 'FR', 'state': '75', 'display_address': [\"24 rue de la Tour d'Auvergne\", '75009 Paris', 'France']}, 'phone': '+33982493098', 'display_phone': '+33 9 82 49 30 98', 'distance': 462.1436778304114}, {'id': 'W7mqjClNGpy53hrSD9yTYg', 'alias': 'le-23-clauzel-paris-2', 'name': 'le 23 Clauzel', 'image_url': 'https://s3-media2.fl.yelpcdn.com/bphoto/QsB5G32io1J4cwGETfXWyw/o.jpg', 'is_closed': False, 'url': 'https://www.yelp.com/biz/le-23-clauzel-paris-2?adjust_creative=v58aGL3xcKISGlGiUDxxtg&utm_campaign=yelp_api_v3&utm_medium=api_v3_business_search&utm_source=v58aGL3xcKISGlGiUDxxtg', 'review_count': 28, 'categories': [{'alias': 'french', 'title': 'French'}], 'rating': 4.0, 'coordinates': {'latitude': 48.879257, 'longitude': 2.337556}, 'transactions': [], 'price': '€€€', 'location': {'address1': '23 rue Clauzel', 'address2': '', 'address3': '', 'city': 'Paris', 'zip_code': '75009', 'country': 'FR', 'state': '75', 'display_address': ['23 rue Clauzel', '75009 Paris', 'France']}, 'phone': '+33148787440', 'display_phone': '+33 1 48 78 74 40', 'distance': 14.966032911599742}, {'id': 'LDhyIV_NLVZkW58oa9yEHg', 'alias': 'la-table-des-anges-paris', 'name': 'La Table des Anges', 'image_url': 'https://s3-media4.fl.yelpcdn.com/bphoto/Cd3UhRdM5hNS7yBTLwaRqQ/o.jpg', 'is_closed': False, 'url': 'https://www.yelp.com/biz/la-table-des-anges-paris?adjust_creative=v58aGL3xcKISGlGiUDxxtg&utm_campaign=yelp_api_v3&utm_medium=api_v3_business_search&utm_source=v58aGL3xcKISGlGiUDxxtg', 'review_count': 32, 'categories': [{'alias': 'french', 'title': 'French'}, {'alias': 'bistros', 'title': 'Bistros'}, {'alias': 'brasseries', 'title': 'Brasseries'}], 'rating': 4.5, 'coordinates': {'latitude': 48.88102, 'longitude': 2.3401}, 'transactions': [], 'price': '€€€', 'location': {'address1': '66 rue des Martyrs', 'address2': '', 'address3': '', 'city': 'Paris', 'zip_code': '75009', 'country': 'FR', 'state': '75', 'display_address': ['66 rue des Martyrs', '75009 Paris', 'France']}, 'phone': '+33155322489', 'display_phone': '+33 1 55 32 24 89', 'distance': 277.30095089112405}, {'id': 'ITciVbz4EDXKEo_mqDamHw', 'alias': 'le-bon-georges-paris', 'name': 'Le Bon Georges', 'image_url': 'https://s3-media2.fl.yelpcdn.com/bphoto/SUXzy4gXuCqQcNH9ag5wXQ/o.jpg', 'is_closed': False, 'url': 'https://www.yelp.com/biz/le-bon-georges-paris?adjust_creative=v58aGL3xcKISGlGiUDxxtg&utm_campaign=yelp_api_v3&utm_medium=api_v3_business_search&utm_source=v58aGL3xcKISGlGiUDxxtg', 'review_count': 62, 'categories': [{'alias': 'bistros', 'title': 'Bistros'}], 'rating': 4.5, 'coordinates': {'latitude': 48.877657, 'longitude': 2.337197}, 'transactions': [], 'price': '€€€', 'location': {'address1': '45 rue Saint-Georges', 'address2': '', 'address3': '', 'city': 'Paris', 'zip_code': '75009', 'country': 'FR', 'state': '75', 'display_address': ['45 rue Saint-Georges', '75009 Paris', 'France']}, 'phone': '+33148784030', 'display_phone': '+33 1 48 78 40 30', 'distance': 182.62890416933155}, {'id': '2xMKFWLjktrlRWGzZAkiEQ', 'alias': 'al-caratello-paris-2', 'name': 'Al Caratello', 'image_url': 'https://s3-media4.fl.yelpcdn.com/bphoto/GQaycFnPhriw2PJKiyUpEg/o.jpg', 'is_closed': False, 'url': 'https://www.yelp.com/biz/al-caratello-paris-2?adjust_creative=v58aGL3xcKISGlGiUDxxtg&utm_campaign=yelp_api_v3&utm_medium=api_v3_business_search&utm_source=v58aGL3xcKISGlGiUDxxtg', 'review_count': 230, 'categories': [{'alias': 'italian', 'title': 'Italian'}], 'rating': 4.5, 'coordinates': {'latitude': 48.885237, 'longitude': 2.335898}, 'transactions': [], 'price': '€€', 'location': {'address1': '5 rue Audran', 'address2': '', 'address3': '', 'city': 'Paris', 'zip_code': '75018', 'country': 'FR', 'state': '75', 'display_address': ['5 rue Audran', '75018 Paris', 'France']}, 'phone': '+33142622423', 'display_phone': '+33 1 42 62 24 23', 'distance': 669.2126445115363}, {'id': 'vatPhRbtUkYxSeiZ-ev2wQ', 'alias': 'the-frog-et-underground-paris', 'name': 'The Frog & Underground', 'image_url': 'https://s3-media3.fl.yelpcdn.com/bphoto/DJM5dymAR-Ge1Pd3MmwEhA/o.jpg', 'is_closed': False, 'url': 'https://www.yelp.com/biz/the-frog-et-underground-paris?adjust_creative=v58aGL3xcKISGlGiUDxxtg&utm_campaign=yelp_api_v3&utm_medium=api_v3_business_search&utm_source=v58aGL3xcKISGlGiUDxxtg', 'review_count': 45, 'categories': [{'alias': 'pubs', 'title': 'Pubs'}, {'alias': 'tradamerican', 'title': 'American'}, {'alias': 'brasseries', 'title': 'Brasseries'}], 'rating': 4.5, 'coordinates': {'latitude': 48.871088, 'longitude': 2.343115}, 'transactions': [], 'price': '€€', 'location': {'address1': '176 rue Montmartre', 'address2': '', 'address3': None, 'city': 'Paris', 'zip_code': '75002', 'country': 'FR', 'state': '75', 'display_address': ['176 rue Montmartre', '75002 Paris', 'France']}, 'phone': '+33144820472', 'display_phone': '+33 1 44 82 04 72', 'distance': 1005.0451514809832}, {'id': 'WZdt9CnWum9vPup_fAMrcQ', 'alias': 'puce-paris-2', 'name': 'Puce', 'image_url': 'https://s3-media3.fl.yelpcdn.com/bphoto/U18AwSPvY45an4zVqrCd2A/o.jpg', 'is_closed': False, 'url': 'https://www.yelp.com/biz/puce-paris-2?adjust_creative=v58aGL3xcKISGlGiUDxxtg&utm_campaign=yelp_api_v3&utm_medium=api_v3_business_search&utm_source=v58aGL3xcKISGlGiUDxxtg', 'review_count': 15, 'categories': [{'alias': 'cafes', 'title': 'Cafes'}, {'alias': 'tapas', 'title': 'Tapas Bars'}, {'alias': 'gastropubs', 'title': 'Gastropubs'}], 'rating': 5.0, 'coordinates': {'latitude': 48.8804907003159, 'longitude': 2.33468323306787}, 'transactions': [], 'price': '€€', 'location': {'address1': '1 rue Chaptal', 'address2': '', 'address3': '', 'city': 'Paris', 'zip_code': '75009', 'country': 'FR', 'state': '75', 'display_address': ['1 rue Chaptal', '75009 Paris', 'France']}, 'phone': '+33953482975', 'display_phone': '+33 9 53 48 29 75', 'distance': 236.57400196392376}, {'id': 'S8pWKW2h1qO413hhi7TYPQ', 'alias': 'café-marlette-paris-2', 'name': 'Café Marlette', 'image_url': 'https://s3-media3.fl.yelpcdn.com/bphoto/rPk5e8Wy8RFhlbqsojM0iw/o.jpg', 'is_closed': False, 'url': 'https://www.yelp.com/biz/caf%C3%A9-marlette-paris-2?adjust_creative=v58aGL3xcKISGlGiUDxxtg&utm_campaign=yelp_api_v3&utm_medium=api_v3_business_search&utm_source=v58aGL3xcKISGlGiUDxxtg', 'review_count': 66, 'categories': [{'alias': 'bakeries', 'title': 'Bakeries'}, {'alias': 'breakfast_brunch', 'title': 'Breakfast & Brunch'}], 'rating': 4.0, 'coordinates': {'latitude': 48.880275, 'longitude': 2.339808}, 'transactions': [], 'price': '€€', 'location': {'address1': '51 rue des Martyrs', 'address2': '', 'address3': '', 'city': 'Paris', 'zip_code': '75009', 'country': 'FR', 'state': '75', 'display_address': ['51 rue des Martyrs', '75009 Paris', 'France']}, 'phone': '+33148748973', 'display_phone': '+33 1 48 74 89 73', 'distance': 209.5135564299869}, {'id': 'J6ge-0l4EFj5pXuPQRj58g', 'alias': 'bouillon-pigalle-paris-2', 'name': 'Bouillon Pigalle', 'image_url': 'https://s3-media2.fl.yelpcdn.com/bphoto/JtBx8HfvnrQJ9Sv4teN0hg/o.jpg', 'is_closed': False, 'url': 'https://www.yelp.com/biz/bouillon-pigalle-paris-2?adjust_creative=v58aGL3xcKISGlGiUDxxtg&utm_campaign=yelp_api_v3&utm_medium=api_v3_business_search&utm_source=v58aGL3xcKISGlGiUDxxtg', 'review_count': 127, 'categories': [{'alias': 'french', 'title': 'French'}], 'rating': 3.5, 'coordinates': {'latitude': 48.88258, 'longitude': 2.33744}, 'transactions': [], 'price': '€€', 'location': {'address1': '22 boulevard Clichy', 'address2': None, 'address3': None, 'city': 'Paris', 'zip_code': '75018', 'country': 'FR', 'state': '75', 'display_address': ['22 boulevard Clichy', '75018 Paris', 'France']}, 'phone': '+33142596931', 'display_phone': '+33 1 42 59 69 31', 'distance': 373.22221448942213}, {'id': '-yaW71_7betiI_nAqBSZRQ', 'alias': 'ito-izakaya-paris', 'name': 'Ito Izakaya', 'image_url': 'https://s3-media4.fl.yelpcdn.com/bphoto/ZhmyyD9XUozvxhb-AWao-Q/o.jpg', 'is_closed': False, 'url': 'https://www.yelp.com/biz/ito-izakaya-paris?adjust_creative=v58aGL3xcKISGlGiUDxxtg&utm_campaign=yelp_api_v3&utm_medium=api_v3_business_search&utm_source=v58aGL3xcKISGlGiUDxxtg', 'review_count': 25, 'categories': [{'alias': 'japanese', 'title': 'Japanese'}, {'alias': 'tapas', 'title': 'Tapas Bars'}, {'alias': 'panasian', 'title': 'Pan Asian'}], 'rating': 4.0, 'coordinates': {'latitude': 48.8805719, 'longitude': 2.3350294}, 'transactions': [], 'price': '€€€', 'location': {'address1': '4 rue Pierre Fontaine', 'address2': '', 'address3': None, 'city': 'Paris', 'zip_code': '75009', 'country': 'FR', 'state': '75', 'display_address': ['4 rue Pierre Fontaine', '75009 Paris', 'France']}, 'phone': '+33952912300', 'display_phone': '+33 9 52 91 23 00', 'distance': 221.76189564128333}, {'id': 'PlP2ScGJnmmNYSVdD_DMXg', 'alias': 'clasico-argentino-paris-5', 'name': 'Clasico Argentino', 'image_url': 'https://s3-media1.fl.yelpcdn.com/bphoto/GcLHZSGB1CM1FaZPcsl_dg/o.jpg', 'is_closed': False, 'url': 'https://www.yelp.com/biz/clasico-argentino-paris-5?adjust_creative=v58aGL3xcKISGlGiUDxxtg&utm_campaign=yelp_api_v3&utm_medium=api_v3_business_search&utm_source=v58aGL3xcKISGlGiUDxxtg', 'review_count': 19, 'categories': [{'alias': 'argentine', 'title': 'Argentine'}, {'alias': 'icecream', 'title': 'Ice Cream & Frozen Yogurt'}, {'alias': 'latin', 'title': 'Latin American'}], 'rating': 4.0, 'coordinates': {'latitude': 48.8803859159267, 'longitude': 2.33761990959202}, 'transactions': [], 'price': '€€', 'location': {'address1': '22 rue Henry Monnier', 'address2': '', 'address3': '', 'city': 'Paris', 'zip_code': '75009', 'country': 'FR', 'state': '75', 'display_address': ['22 rue Henry Monnier', '75009 Paris', 'France']}, 'phone': '+33142813144', 'display_phone': '+33 1 42 81 31 44', 'distance': 122.6823953807368}, {'id': 'GhuBVzRYZ2nWSKgXdEmBpw', 'alias': 'the-hardware-société-paris-2', 'name': 'The Hardware Société', 'image_url': 'https://s3-media2.fl.yelpcdn.com/bphoto/jAMqYT6kDZdBB5qlBXOA3w/o.jpg', 'is_closed': False, 'url': 'https://www.yelp.com/biz/the-hardware-soci%C3%A9t%C3%A9-paris-2?adjust_creative=v58aGL3xcKISGlGiUDxxtg&utm_campaign=yelp_api_v3&utm_medium=api_v3_business_search&utm_source=v58aGL3xcKISGlGiUDxxtg', 'review_count': 203, 'categories': [{'alias': 'coffee', 'title': 'Coffee & Tea'}, {'alias': 'breakfast_brunch', 'title': 'Breakfast & Brunch'}, {'alias': 'australian', 'title': 'Australian'}], 'rating': 4.5, 'coordinates': {'latitude': 48.88688, 'longitude': 2.3445299}, 'transactions': [], 'price': '€€', 'location': {'address1': '10 rue Lamarck', 'address2': '', 'address3': '', 'city': 'Paris', 'zip_code': '75018', 'country': 'FR', 'state': '75', 'display_address': ['10 rue Lamarck', '75018 Paris', 'France']}, 'phone': '+33142516903', 'display_phone': '+33 1 42 51 69 03', 'distance': 997.4985077193842}, {'id': 'Z3NoQkHtk4WOQ0dnD8KpPg', 'alias': 'sizin-paris-2', 'name': 'Sizin', 'image_url': 'https://s3-media2.fl.yelpcdn.com/bphoto/Mkpwn4j-MiSGXiAs0oAJHw/o.jpg', 'is_closed': False, 'url': 'https://www.yelp.com/biz/sizin-paris-2?adjust_creative=v58aGL3xcKISGlGiUDxxtg&utm_campaign=yelp_api_v3&utm_medium=api_v3_business_search&utm_source=v58aGL3xcKISGlGiUDxxtg', 'review_count': 33, 'categories': [{'alias': 'turkish', 'title': 'Turkish'}], 'rating': 4.0, 'coordinates': {'latitude': 48.87771, 'longitude': 2.33739}, 'transactions': [], 'price': '€€', 'location': {'address1': '47 rue Saint-Georges', 'address2': None, 'address3': None, 'city': 'Paris', 'zip_code': '75009', 'country': 'FR', 'state': '75', 'display_address': ['47 rue Saint-Georges', '75009 Paris', 'France']}, 'phone': '+33144630228', 'display_phone': '+33 1 44 63 02 28', 'distance': 176.35933561797802}, {'id': 'e97KuSLc4e0nPmHrHJAqLQ', 'alias': 'pi-hour-paris-6', 'name': 'Pi Hour', 'image_url': 'https://s3-media2.fl.yelpcdn.com/bphoto/XXm-Y8HC19vBNwm4cu76dA/o.jpg', 'is_closed': False, 'url': 'https://www.yelp.com/biz/pi-hour-paris-6?adjust_creative=v58aGL3xcKISGlGiUDxxtg&utm_campaign=yelp_api_v3&utm_medium=api_v3_business_search&utm_source=v58aGL3xcKISGlGiUDxxtg', 'review_count': 26, 'categories': [{'alias': 'pizza', 'title': 'Pizza'}, {'alias': 'bars', 'title': 'Bars'}, {'alias': 'tapas', 'title': 'Tapas Bars'}], 'rating': 4.0, 'coordinates': {'latitude': 48.8791312, 'longitude': 2.3347856}, 'transactions': [], 'price': '€€', 'location': {'address1': '32 rue de la Rochefoucauld', 'address2': '', 'address3': '', 'city': 'Paris', 'zip_code': '75009', 'country': 'FR', 'state': '75', 'display_address': ['32 rue de la Rochefoucauld', '75009 Paris', 'France']}, 'phone': '+33153164456', 'display_phone': '+33 1 53 16 44 56', 'distance': 189.1534102036224}, {'id': '8HayzmdrC1JqWLi_7uonSA', 'alias': 'chez-delphine-paris', 'name': 'Chez Delphine', 'image_url': 'https://s3-media3.fl.yelpcdn.com/bphoto/lY8NNJpw-XWX-H-O604Tuw/o.jpg', 'is_closed': False, 'url': 'https://www.yelp.com/biz/chez-delphine-paris?adjust_creative=v58aGL3xcKISGlGiUDxxtg&utm_campaign=yelp_api_v3&utm_medium=api_v3_business_search&utm_source=v58aGL3xcKISGlGiUDxxtg', 'review_count': 9, 'categories': [{'alias': 'french', 'title': 'French'}], 'rating': 5.0, 'coordinates': {'latitude': 48.8772257556351, 'longitude': 2.33733181919955}, 'transactions': [], 'location': {'address1': '48 rue Saint-Georges', 'address2': '', 'address3': None, 'city': 'Paris', 'zip_code': '75009', 'country': 'FR', 'state': '75', 'display_address': ['48 rue Saint-Georges', '75009 Paris', 'France']}, 'phone': '+33142813594', 'display_phone': '+33 1 42 81 35 94', 'distance': 230.2005028817933}], 'total': 2200, 'region': {'center': {'longitude': 2.3373600840568547, 'latitude': 48.87929591733507}}}\n"
     ]
    },
    {
     "name": "stderr",
     "output_type": "stream",
     "text": [
      "\n"
     ]
    }
   ],
   "source": [
    "def collect_nearby_yelp_poi_data(stations_df, max_responses=None):\n",
    "    columns = ['station', 'usage', 'total_bikes', 'poi_name', 'poi_distance', 'poi_address']\n",
    "    collected_data = []\n",
    "\n",
    "    for _, station in tqdm(stations_df.iterrows(), total=stations_df.shape[0], desc=\"Processing Stations\"):\n",
    "        try:\n",
    "            yelp_response = get_nearby_yelp(station['latitude'], station['longitude'])\n",
    "\n",
    "            if 'businesses' in yelp_response:\n",
    "                for business in yelp_response['businesses']:\n",
    "                    collected_data.append([\n",
    "                        station['name'], \n",
    "                        station['usage_percentage'], \n",
    "                        station['total_bikes'], \n",
    "                        business['name'], \n",
    "                        business['distance'], \n",
    "                        business['location']['address1']\n",
    "                    ])\n",
    "\n",
    "                    if max_responses and len(collected_data) >= max_responses:\n",
    "                        return pd.DataFrame(collected_data, columns=columns)\n",
    "            else:\n",
    "                print(f\"Warning: No 'businesses' key in response for station {station['name']}\")\n",
    "\n",
    "    return pd.DataFrame(collected_data, columns=columns)\n",
    "\n",
    "# Limit to 100 responses\n",
    "df_yelp_poi = collect_nearby_yelp_poi_data(stations_df, max_responses=100)\n",
    "\n"
   ]
  },
  {
   "cell_type": "code",
   "execution_count": 13,
   "metadata": {},
   "outputs": [
    {
     "data": {
      "text/plain": [
       "(100, 6)"
      ]
     },
     "execution_count": 13,
     "metadata": {},
     "output_type": "execute_result"
    }
   ],
   "source": [
    "df_yelp_poi.shape\n"
   ]
  },
  {
   "cell_type": "code",
   "execution_count": 14,
   "metadata": {},
   "outputs": [
    {
     "data": {
      "text/plain": [
       "<bound method DataFrame.info of                           station     usage  total_bikes  \\\n",
       "0   Benjamin Godard - Victor Hugo  0.914286           35   \n",
       "1   Benjamin Godard - Victor Hugo  0.914286           35   \n",
       "2   Benjamin Godard - Victor Hugo  0.914286           35   \n",
       "3   Benjamin Godard - Victor Hugo  0.914286           35   \n",
       "4   Benjamin Godard - Victor Hugo  0.914286           35   \n",
       "..                            ...       ...          ...   \n",
       "95             Toudouze - Clauzel  0.800000           20   \n",
       "96             Toudouze - Clauzel  0.800000           20   \n",
       "97             Toudouze - Clauzel  0.800000           20   \n",
       "98             Toudouze - Clauzel  0.800000           20   \n",
       "99             Toudouze - Clauzel  0.800000           20   \n",
       "\n",
       "                              poi_name  poi_distance  \\\n",
       "0                       La Coïncidence    674.583885   \n",
       "1                          Le Poincaré    796.383746   \n",
       "2                           L'Astrance   1193.905748   \n",
       "3   Crêperie Framboise Passy-Trocadéro   1046.423395   \n",
       "4                             Sgabetti    581.102661   \n",
       "..                                 ...           ...   \n",
       "95                   Clasico Argentino    122.682395   \n",
       "96                The Hardware Société    997.498508   \n",
       "97                               Sizin    176.359336   \n",
       "98                             Pi Hour    189.153410   \n",
       "99                       Chez Delphine    230.200503   \n",
       "\n",
       "                   poi_address  \n",
       "0                15 rue Mesnil  \n",
       "1   22 avenue Raymond Poincaré  \n",
       "2              4 rue Beethoven  \n",
       "3              10 bd Delessert  \n",
       "4               15 rue Sablons  \n",
       "..                         ...  \n",
       "95        22 rue Henry Monnier  \n",
       "96              10 rue Lamarck  \n",
       "97        47 rue Saint-Georges  \n",
       "98  32 rue de la Rochefoucauld  \n",
       "99        48 rue Saint-Georges  \n",
       "\n",
       "[100 rows x 6 columns]>"
      ]
     },
     "execution_count": 14,
     "metadata": {},
     "output_type": "execute_result"
    }
   ],
   "source": [
    "df_yelp_poi.info\n"
   ]
  },
  {
   "cell_type": "markdown",
   "metadata": {},
   "source": [
    "### Data cleaning - checking for null values\n"
   ]
  },
  {
   "cell_type": "code",
   "execution_count": 15,
   "metadata": {},
   "outputs": [
    {
     "name": "stdout",
     "output_type": "stream",
     "text": [
      "station         0\n",
      "usage           0\n",
      "total_bikes     0\n",
      "poi_name        0\n",
      "poi_distance    0\n",
      "poi_address     0\n",
      "dtype: int64\n"
     ]
    }
   ],
   "source": [
    "print(df_yelp_poi.isnull().sum())\n"
   ]
  },
  {
   "cell_type": "markdown",
   "metadata": {},
   "source": [
    "Put your parsed results into a DataFrame\n"
   ]
  },
  {
   "cell_type": "code",
   "execution_count": 16,
   "metadata": {
    "scrolled": true
   },
   "outputs": [
    {
     "data": {
      "text/html": [
       "<div>\n",
       "<style scoped>\n",
       "    .dataframe tbody tr th:only-of-type {\n",
       "        vertical-align: middle;\n",
       "    }\n",
       "\n",
       "    .dataframe tbody tr th {\n",
       "        vertical-align: top;\n",
       "    }\n",
       "\n",
       "    .dataframe thead th {\n",
       "        text-align: right;\n",
       "    }\n",
       "</style>\n",
       "<table border=\"1\" class=\"dataframe\">\n",
       "  <thead>\n",
       "    <tr style=\"text-align: right;\">\n",
       "      <th></th>\n",
       "      <th>station</th>\n",
       "      <th>usage</th>\n",
       "      <th>total_bikes</th>\n",
       "      <th>poi_name</th>\n",
       "      <th>poi_distance</th>\n",
       "      <th>poi_address</th>\n",
       "    </tr>\n",
       "  </thead>\n",
       "  <tbody>\n",
       "    <tr>\n",
       "      <th>0</th>\n",
       "      <td>Benjamin Godard - Victor Hugo</td>\n",
       "      <td>0.914286</td>\n",
       "      <td>35</td>\n",
       "      <td>La Coïncidence</td>\n",
       "      <td>674.583885</td>\n",
       "      <td>15 rue Mesnil</td>\n",
       "    </tr>\n",
       "    <tr>\n",
       "      <th>1</th>\n",
       "      <td>Benjamin Godard - Victor Hugo</td>\n",
       "      <td>0.914286</td>\n",
       "      <td>35</td>\n",
       "      <td>Le Poincaré</td>\n",
       "      <td>796.383746</td>\n",
       "      <td>22 avenue Raymond Poincaré</td>\n",
       "    </tr>\n",
       "    <tr>\n",
       "      <th>2</th>\n",
       "      <td>Benjamin Godard - Victor Hugo</td>\n",
       "      <td>0.914286</td>\n",
       "      <td>35</td>\n",
       "      <td>L'Astrance</td>\n",
       "      <td>1193.905748</td>\n",
       "      <td>4 rue Beethoven</td>\n",
       "    </tr>\n",
       "    <tr>\n",
       "      <th>3</th>\n",
       "      <td>Benjamin Godard - Victor Hugo</td>\n",
       "      <td>0.914286</td>\n",
       "      <td>35</td>\n",
       "      <td>Crêperie Framboise Passy-Trocadéro</td>\n",
       "      <td>1046.423395</td>\n",
       "      <td>10 bd Delessert</td>\n",
       "    </tr>\n",
       "    <tr>\n",
       "      <th>4</th>\n",
       "      <td>Benjamin Godard - Victor Hugo</td>\n",
       "      <td>0.914286</td>\n",
       "      <td>35</td>\n",
       "      <td>Sgabetti</td>\n",
       "      <td>581.102661</td>\n",
       "      <td>15 rue Sablons</td>\n",
       "    </tr>\n",
       "    <tr>\n",
       "      <th>...</th>\n",
       "      <td>...</td>\n",
       "      <td>...</td>\n",
       "      <td>...</td>\n",
       "      <td>...</td>\n",
       "      <td>...</td>\n",
       "      <td>...</td>\n",
       "    </tr>\n",
       "    <tr>\n",
       "      <th>95</th>\n",
       "      <td>Toudouze - Clauzel</td>\n",
       "      <td>0.800000</td>\n",
       "      <td>20</td>\n",
       "      <td>Clasico Argentino</td>\n",
       "      <td>122.682395</td>\n",
       "      <td>22 rue Henry Monnier</td>\n",
       "    </tr>\n",
       "    <tr>\n",
       "      <th>96</th>\n",
       "      <td>Toudouze - Clauzel</td>\n",
       "      <td>0.800000</td>\n",
       "      <td>20</td>\n",
       "      <td>The Hardware Société</td>\n",
       "      <td>997.498508</td>\n",
       "      <td>10 rue Lamarck</td>\n",
       "    </tr>\n",
       "    <tr>\n",
       "      <th>97</th>\n",
       "      <td>Toudouze - Clauzel</td>\n",
       "      <td>0.800000</td>\n",
       "      <td>20</td>\n",
       "      <td>Sizin</td>\n",
       "      <td>176.359336</td>\n",
       "      <td>47 rue Saint-Georges</td>\n",
       "    </tr>\n",
       "    <tr>\n",
       "      <th>98</th>\n",
       "      <td>Toudouze - Clauzel</td>\n",
       "      <td>0.800000</td>\n",
       "      <td>20</td>\n",
       "      <td>Pi Hour</td>\n",
       "      <td>189.153410</td>\n",
       "      <td>32 rue de la Rochefoucauld</td>\n",
       "    </tr>\n",
       "    <tr>\n",
       "      <th>99</th>\n",
       "      <td>Toudouze - Clauzel</td>\n",
       "      <td>0.800000</td>\n",
       "      <td>20</td>\n",
       "      <td>Chez Delphine</td>\n",
       "      <td>230.200503</td>\n",
       "      <td>48 rue Saint-Georges</td>\n",
       "    </tr>\n",
       "  </tbody>\n",
       "</table>\n",
       "<p>100 rows × 6 columns</p>\n",
       "</div>"
      ],
      "text/plain": [
       "                          station     usage  total_bikes  \\\n",
       "0   Benjamin Godard - Victor Hugo  0.914286           35   \n",
       "1   Benjamin Godard - Victor Hugo  0.914286           35   \n",
       "2   Benjamin Godard - Victor Hugo  0.914286           35   \n",
       "3   Benjamin Godard - Victor Hugo  0.914286           35   \n",
       "4   Benjamin Godard - Victor Hugo  0.914286           35   \n",
       "..                            ...       ...          ...   \n",
       "95             Toudouze - Clauzel  0.800000           20   \n",
       "96             Toudouze - Clauzel  0.800000           20   \n",
       "97             Toudouze - Clauzel  0.800000           20   \n",
       "98             Toudouze - Clauzel  0.800000           20   \n",
       "99             Toudouze - Clauzel  0.800000           20   \n",
       "\n",
       "                              poi_name  poi_distance  \\\n",
       "0                       La Coïncidence    674.583885   \n",
       "1                          Le Poincaré    796.383746   \n",
       "2                           L'Astrance   1193.905748   \n",
       "3   Crêperie Framboise Passy-Trocadéro   1046.423395   \n",
       "4                             Sgabetti    581.102661   \n",
       "..                                 ...           ...   \n",
       "95                   Clasico Argentino    122.682395   \n",
       "96                The Hardware Société    997.498508   \n",
       "97                               Sizin    176.359336   \n",
       "98                             Pi Hour    189.153410   \n",
       "99                       Chez Delphine    230.200503   \n",
       "\n",
       "                   poi_address  \n",
       "0                15 rue Mesnil  \n",
       "1   22 avenue Raymond Poincaré  \n",
       "2              4 rue Beethoven  \n",
       "3              10 bd Delessert  \n",
       "4               15 rue Sablons  \n",
       "..                         ...  \n",
       "95        22 rue Henry Monnier  \n",
       "96              10 rue Lamarck  \n",
       "97        47 rue Saint-Georges  \n",
       "98  32 rue de la Rochefoucauld  \n",
       "99        48 rue Saint-Georges  \n",
       "\n",
       "[100 rows x 6 columns]"
      ]
     },
     "execution_count": 16,
     "metadata": {},
     "output_type": "execute_result"
    }
   ],
   "source": [
    "df_yelp_poi\n"
   ]
  },
  {
   "cell_type": "code",
   "execution_count": 17,
   "metadata": {},
   "outputs": [],
   "source": [
    "# Save dataframe to CSV\n",
    "df_yelp_poi.to_csv('../data/yelp_poi.csv', index=False)\n"
   ]
  },
  {
   "cell_type": "markdown",
   "metadata": {},
   "source": [
    "# Comparing Results\n"
   ]
  },
  {
   "cell_type": "markdown",
   "metadata": {},
   "source": [
    "Yelp tend to be more generous. \n"
   ]
  },
  {
   "cell_type": "markdown",
   "metadata": {},
   "source": [
    "Get the top 10 restaurants according to their rating\n"
   ]
  },
  {
   "cell_type": "code",
   "execution_count": 18,
   "metadata": {},
   "outputs": [],
   "source": [
    "# Define constants\n",
    "YELP_API_KEY = os.getenv('YELP_key')\n",
    "YELP_API_URL = \"https://api.yelp.com/v3/businesses/search\"\n",
    "RESULTS_LIMIT = 20\n",
    "RADIUS_METERS = 1000  # Set the radius to 1000 meters\n",
    "\n",
    "\n",
    "def get_top_restaurants_and_poi(location, api_key):\n",
    "    headers = {\n",
    "        'Authorization': f'Bearer {api_key}'\n",
    "    }\n",
    "\n",
    "    # Define common parameters\n",
    "    common_params = {\n",
    "        'location': location,\n",
    "        'limit': RESULTS_LIMIT,\n",
    "        'open_now': True,\n",
    "        'radius': RADIUS_METERS  # Add the 'radius' parameter with the specified value\n",
    "    }\n",
    "\n",
    "    # Define separate parameters for restaurants and POI\n",
    "    restaurant_params = {\n",
    "        'term': 'restaurants',\n",
    "        **common_params\n",
    "    }\n",
    "\n",
    "    poi_params = {\n",
    "        'term': 'points of interest',\n",
    "        **common_params\n",
    "    }\n",
    "\n",
    "    try:\n",
    "        # Retrieve top-rated restaurants\n",
    "        response_restaurants = requests.get(\n",
    "            YELP_API_URL, headers=headers, params=restaurant_params)\n",
    "        response_restaurants.raise_for_status()\n",
    "\n",
    "        data = response_restaurants.json()\n",
    "        restaurants = data.get('businesses', [])\n",
    "\n",
    "        # Sort restaurants by rating, descending\n",
    "        top_restaurants = sorted(\n",
    "            restaurants, key=lambda x: x.get('rating', 0), reverse=True)\n",
    "\n",
    "        # Create a DataFrame for restaurants\n",
    "        restaurant_df = pd.DataFrame(top_restaurants[:RESULTS_LIMIT])\n",
    "        restaurant_df = restaurant_df[['name', 'rating', 'coordinates']]\n",
    "\n",
    "        # Extract 'latitude' and 'longitude' from the 'coordinates' column\n",
    "        restaurant_df['latitude'] = restaurant_df['coordinates'].apply(\n",
    "            lambda x: x['latitude'])\n",
    "        restaurant_df['longitude'] = restaurant_df['coordinates'].apply(\n",
    "            lambda x: x['longitude'])\n",
    "\n",
    "        # Save restaurant_df as CSV if needed\n",
    "        # restaurant_csv_file_path = '../data/restaurant_data.csv'\n",
    "        # restaurant_df.to_csv(restaurant_csv_file_path, index=False)\n",
    "\n",
    "        # Retrieve top-rated POI\n",
    "        response_poi = requests.get(\n",
    "            YELP_API_URL, headers=headers, params=poi_params)\n",
    "        response_poi.raise_for_status()\n",
    "\n",
    "        data = response_poi.json()\n",
    "        raw_poi = data.get('businesses', [])\n",
    "\n",
    "        # Create a DataFrame for POI\n",
    "        raw_poi_df = pd.DataFrame(raw_poi[:RESULTS_LIMIT])\n",
    "        raw_poi_df = raw_poi_df[['name', 'rating', 'coordinates']]\n",
    "\n",
    "        # Extract 'latitude' and 'longitude' from the 'coordinates' column\n",
    "        raw_poi_df['latitude'] = raw_poi_df['coordinates'].apply(\n",
    "            lambda x: x['latitude'])\n",
    "        raw_poi_df['longitude'] = raw_poi_df['coordinates'].apply(\n",
    "            lambda x: x['longitude'])\n",
    "\n",
    "        # Drop the 'coordinates' column from raw_poi_df\n",
    "        raw_poi_df.drop('coordinates', axis=1, inplace=True)\n",
    "\n",
    "        # Concatenate raw_poi_df and restaurant_df into poi_df\n",
    "        poi_df = pd.concat([raw_poi_df, restaurant_df], ignore_index=True)\n",
    "\n",
    "        # Save poi_df as CSV\n",
    "        csv_file_path = '../data/poi_data.csv'\n",
    "        poi_df.to_csv(csv_file_path, index=False)\n",
    "\n",
    "        return restaurant_df  # Return restaurant_df\n",
    "\n",
    "    except requests.exceptions.RequestException as e:\n",
    "        print(f\"An error occurred: {e}\")\n",
    "\n",
    "\n",
    "# Example usage\n",
    "location = 'Paris'\n",
    "# Assign the returned DataFrame to restaurant_df\n",
    "restaurant_df = get_top_restaurants_and_poi(location, YELP_API_KEY)\n"
   ]
  },
  {
   "cell_type": "code",
   "execution_count": 19,
   "metadata": {},
   "outputs": [
    {
     "name": "stdout",
     "output_type": "stream",
     "text": [
      "Top 10 Restaurants:\n",
      "1 . Name: Le Café Laurent, Rating: 5.0\n",
      "2 . Name: Au Plaisir, Rating: 5.0\n",
      "3 . Name: Café Blanc, Rating: 4.5\n",
      "4 . Name: Le P'tit Bistro, Rating: 4.5\n",
      "5 . Name: Pret A Manger, Rating: 4.5\n",
      "6 . Name: Grand Hôtel du Palais Royal, Rating: 4.5\n",
      "7 . Name: Colin Régis, Rating: 4.5\n",
      "8 . Name: L'Imprimerie, Rating: 4.0\n",
      "9 . Name: Le Bistrot des Halles, Rating: 4.0\n",
      "10. Name: Restaurant Bachaumont, Rating: 4.0\n"
     ]
    }
   ],
   "source": [
    "# View the first 10 restaurants with only 'name' and 'rating' columns\n",
    "print(\"Top 10 Restaurants:\")\n",
    "for idx, row in restaurant_df.head(10).iterrows():\n",
    "    name = row['name']\n",
    "    rating = row['rating']\n",
    "    # Use str.ljust to left-align the numbers with a width of 2\n",
    "    idx_str = str(idx + 1).ljust(2)\n",
    "    print(f\"{idx_str}. Name: {name}, Rating: {rating:.1f}\")\n"
   ]
  },
  {
   "cell_type": "markdown",
   "metadata": {},
   "source": [
    "Top 10 Restaurants:\n",
    "1 . Name: Grand Hôtel du Palais Royal, Rating: 4.5\n",
    "2 . Name: De Voltaire à Rousseau, Rating: 4.5\n",
    "3 . Name: Grand Bay Café, Rating: 4.5\n",
    "4 . Name: La Tour de Montlhéry ou chez Denise, Rating: 4.0\n",
    "5 . Name: Le Terminus du Châtelet, Rating: 4.0\n",
    "6 . Name: Au Pied de Cochon, Rating: 3.5\n",
    "7 . Name: Le Tambour, Rating: 3.5\n",
    "8 . Name: Chacha, Rating: 3.0\n",
    "9 . Name: Le Départ Saint Michel, Rating: 3.0 10. Name: Le Buci, Rating: 3.0\n"
   ]
  }
 ],
 "metadata": {
  "kernelspec": {
   "display_name": "Python 3 (ipykernel)",
   "language": "python",
   "name": "python3"
  },
  "language_info": {
   "codemirror_mode": {
    "name": "ipython",
    "version": 3
   },
   "file_extension": ".py",
   "mimetype": "text/x-python",
   "name": "python",
   "nbconvert_exporter": "python",
   "pygments_lexer": "ipython3",
   "version": "3.12.1"
  }
 },
 "nbformat": 4,
 "nbformat_minor": 4
}
