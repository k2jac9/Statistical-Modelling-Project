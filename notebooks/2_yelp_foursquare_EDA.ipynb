{
 "cells": [
  {
   "cell_type": "markdown",
   "metadata": {},
   "source": [
    "Import required libraries\n"
   ]
  },
  {
   "cell_type": "code",
   "execution_count": 24,
   "metadata": {},
   "outputs": [],
   "source": [
    "import os\n",
    "import pandas as pd\n",
    "import json\n",
    "import requests\n",
    "import folium\n",
    "from tqdm import tqdm\n"
   ]
  },
  {
   "cell_type": "markdown",
   "metadata": {},
   "source": [
    "#### Load stations dataframe\n"
   ]
  },
  {
   "cell_type": "code",
   "execution_count": 25,
   "metadata": {},
   "outputs": [],
   "source": [
    "stations_df = pd.read_csv('../data/stations.csv')\n"
   ]
  },
  {
   "cell_type": "markdown",
   "metadata": {},
   "source": [
    "# Foursquare\n"
   ]
  },
  {
   "cell_type": "markdown",
   "metadata": {},
   "source": [
    "Send a request to Foursquare with a small radius (1000m) for all the bike stations in your city of choice.\n"
   ]
  },
  {
   "cell_type": "markdown",
   "metadata": {},
   "source": [
    "### Foursquare iteration over bike tations\n"
   ]
  },
  {
   "cell_type": "code",
   "execution_count": 26,
   "metadata": {},
   "outputs": [],
   "source": [
    "# Constants\n",
    "FSQ_API_URL = \"https://api.foursquare.com/v3/places/search\"\n",
    "\n",
    "\n",
    "def get_nearby_poi(latitude, longitude, radius=1000, open_now=True):\n",
    "    \"\"\"\n",
    "    Retrieves nearby points of interest using Foursquare API.\n",
    "\n",
    "    Args:\n",
    "    latitude (float): Latitude of the location.\n",
    "    longitude (float): Longitude of the location.\n",
    "    radius (int, optional): Search radius in meters. Default is 1000.\n",
    "    open_now (bool, optional): Whether to search only for places that are open now. Default is True.\n",
    "    sort (str, optional): Sorting method of the results. Default is 'DISTANCE'.\n",
    "\n",
    "    Returns:\n",
    "    list: A list of dictionaries with POI information.\n",
    "\n",
    "    Raises:\n",
    "    Exception: If the API request fails.\n",
    "    \"\"\"\n",
    "    params = {\n",
    "        \"radius\": str(radius),\n",
    "        \"ll\": f\"{latitude},{longitude}\",\n",
    "        \"open_now\": \"true\" if open_now else \"false\"\n",
    "    }\n",
    "\n",
    "    # Securely load the API key\n",
    "    api_key = os.getenv('FSQ_key')\n",
    "    if not api_key:\n",
    "        raise Exception(\"API key not found\")\n",
    "\n",
    "    headers = {\n",
    "        \"Accept\": \"application/json\",\n",
    "        \"Authorization\": api_key\n",
    "    }\n",
    "\n",
    "    try:\n",
    "        response = requests.get(FSQ_API_URL, params=params, headers=headers)\n",
    "        response.raise_for_status()\n",
    "        return json.loads(response.text)\n",
    "    except requests.RequestException as e:\n",
    "        raise Exception(f\"Error fetching data: {e}\")\n",
    "\n",
    "# Example usage\n",
    "# nearby_pois = get_nearby_poi(40.7128, -74.0060)\n"
   ]
  },
  {
   "cell_type": "markdown",
   "metadata": {},
   "source": [
    "Parse through the response to get the POI (such as restaurants, bars, etc) details you want (ratings, name, location, etc)\n"
   ]
  },
  {
   "cell_type": "markdown",
   "metadata": {},
   "source": [
    "### Create a dataframe named 'df_fspoi' that consolidates details of both stations and points of interest. This dataframe includes columns for station name, latitude, longitude, and usage, as well as columns for the name, distance, rating, and address of each point of interest\n"
   ]
  },
  {
   "cell_type": "code",
   "execution_count": 27,
   "metadata": {},
   "outputs": [
    {
     "name": "stderr",
     "output_type": "stream",
     "text": [
      "Processing Stations:   1%|          | 9/1461 [00:07<21:11,  1.14it/s]\n"
     ]
    }
   ],
   "source": [
    "def collect_nearby_poi_data(stations_df, max_responses=None):\n",
    "    df_fspoi = pd.DataFrame(columns=[\n",
    "                            'station', 'usage', 'total_bikes', 'poi_name', 'poi_distance', 'poi_address'])\n",
    "    rows_to_append = []\n",
    "    response_count = 0  # Keep track of the number of responses collected\n",
    "\n",
    "    for index, station in tqdm(stations_df.iterrows(), total=len(stations_df), desc=\"Processing Stations\"):\n",
    "        myjson = get_nearby_poi(station['latitude'], station['longitude'])\n",
    "        for business in myjson['results']:\n",
    "            fs_info_data = {\n",
    "                \"name\": business['name'],\n",
    "                \"distance\": business['distance'],\n",
    "                \"address\": business['location']['formatted_address']\n",
    "            }\n",
    "            row = [station['name'], station['usage_percentage'], station['total_bikes'], fs_info_data['name'],\n",
    "                   fs_info_data['distance'], fs_info_data['address']]\n",
    "            rows_to_append.append(row)\n",
    "            response_count += 1\n",
    "\n",
    "            if max_responses is not None and response_count >= max_responses:\n",
    "                return pd.DataFrame(rows_to_append, columns=df_fspoi.columns)\n",
    "\n",
    "    df_fspoi = pd.concat([df_fspoi, pd.DataFrame(\n",
    "        rows_to_append, columns=df_fspoi.columns)], ignore_index=True)\n",
    "\n",
    "    return df_fspoi\n",
    "\n",
    "\n",
    "# Limit to 100 responses\n",
    "df_fspoi = collect_nearby_poi_data(stations_df, max_responses=100)\n"
   ]
  },
  {
   "cell_type": "markdown",
   "metadata": {},
   "source": [
    "Put your parsed results into a DataFrame\n"
   ]
  },
  {
   "cell_type": "code",
   "execution_count": 28,
   "metadata": {
    "scrolled": false
   },
   "outputs": [
    {
     "data": {
      "text/html": [
       "<div>\n",
       "<style scoped>\n",
       "    .dataframe tbody tr th:only-of-type {\n",
       "        vertical-align: middle;\n",
       "    }\n",
       "\n",
       "    .dataframe tbody tr th {\n",
       "        vertical-align: top;\n",
       "    }\n",
       "\n",
       "    .dataframe thead th {\n",
       "        text-align: right;\n",
       "    }\n",
       "</style>\n",
       "<table border=\"1\" class=\"dataframe\">\n",
       "  <thead>\n",
       "    <tr style=\"text-align: right;\">\n",
       "      <th></th>\n",
       "      <th>station</th>\n",
       "      <th>usage</th>\n",
       "      <th>total_bikes</th>\n",
       "      <th>poi_name</th>\n",
       "      <th>poi_distance</th>\n",
       "      <th>poi_address</th>\n",
       "    </tr>\n",
       "  </thead>\n",
       "  <tbody>\n",
       "    <tr>\n",
       "      <th>0</th>\n",
       "      <td>Benjamin Godard - Victor Hugo</td>\n",
       "      <td>0.942857</td>\n",
       "      <td>35</td>\n",
       "      <td>Square Lamartine</td>\n",
       "      <td>94</td>\n",
       "      <td>3 Square Lamartine, 75016 Paris</td>\n",
       "    </tr>\n",
       "    <tr>\n",
       "      <th>1</th>\n",
       "      <td>Benjamin Godard - Victor Hugo</td>\n",
       "      <td>0.942857</td>\n",
       "      <td>35</td>\n",
       "      <td>Axxia</td>\n",
       "      <td>185</td>\n",
       "      <td>116 rue de la Faisanderie, 75116 Paris</td>\n",
       "    </tr>\n",
       "    <tr>\n",
       "      <th>2</th>\n",
       "      <td>Benjamin Godard - Victor Hugo</td>\n",
       "      <td>0.942857</td>\n",
       "      <td>35</td>\n",
       "      <td>Place du Trocadéro</td>\n",
       "      <td>906</td>\n",
       "      <td>19 place du Trocadéro et du Onze Novembre, 750...</td>\n",
       "    </tr>\n",
       "    <tr>\n",
       "      <th>3</th>\n",
       "      <td>Benjamin Godard - Victor Hugo</td>\n",
       "      <td>0.942857</td>\n",
       "      <td>35</td>\n",
       "      <td>Bs Design</td>\n",
       "      <td>548</td>\n",
       "      <td>16 rue Spontini, 75116 Paris</td>\n",
       "    </tr>\n",
       "    <tr>\n",
       "      <th>4</th>\n",
       "      <td>Benjamin Godard - Victor Hugo</td>\n",
       "      <td>0.942857</td>\n",
       "      <td>35</td>\n",
       "      <td>Jardin du Ranelagh</td>\n",
       "      <td>968</td>\n",
       "      <td>avenue du Ranelagh, 75016 Paris</td>\n",
       "    </tr>\n",
       "    <tr>\n",
       "      <th>...</th>\n",
       "      <td>...</td>\n",
       "      <td>...</td>\n",
       "      <td>...</td>\n",
       "      <td>...</td>\n",
       "      <td>...</td>\n",
       "      <td>...</td>\n",
       "    </tr>\n",
       "    <tr>\n",
       "      <th>95</th>\n",
       "      <td>Jouffroy d'Abbans - Wagram</td>\n",
       "      <td>0.714286</td>\n",
       "      <td>35</td>\n",
       "      <td>Clinique Internationale du Parc Monceau</td>\n",
       "      <td>322</td>\n",
       "      <td>21 rue de Chazelles, 21-23, 75017 Paris</td>\n",
       "    </tr>\n",
       "    <tr>\n",
       "      <th>96</th>\n",
       "      <td>Jouffroy d'Abbans - Wagram</td>\n",
       "      <td>0.714286</td>\n",
       "      <td>35</td>\n",
       "      <td>Chirurgie de la Main et de l'épaule</td>\n",
       "      <td>336</td>\n",
       "      <td>92 boulevard de Courcelles, 75017 Paris</td>\n",
       "    </tr>\n",
       "    <tr>\n",
       "      <th>97</th>\n",
       "      <td>Jouffroy d'Abbans - Wagram</td>\n",
       "      <td>0.714286</td>\n",
       "      <td>35</td>\n",
       "      <td>Gazon Synthétique 24</td>\n",
       "      <td>527</td>\n",
       "      <td>rue de Prony, 75017 Paris</td>\n",
       "    </tr>\n",
       "    <tr>\n",
       "      <th>98</th>\n",
       "      <td>Jouffroy d'Abbans - Wagram</td>\n",
       "      <td>0.714286</td>\n",
       "      <td>35</td>\n",
       "      <td>Café Marion</td>\n",
       "      <td>829</td>\n",
       "      <td>8 avenue de Friedland, 75008 Paris</td>\n",
       "    </tr>\n",
       "    <tr>\n",
       "      <th>99</th>\n",
       "      <td>Jouffroy d'Abbans - Wagram</td>\n",
       "      <td>0.714286</td>\n",
       "      <td>35</td>\n",
       "      <td>Production 3 ADC</td>\n",
       "      <td>608</td>\n",
       "      <td>9 rue Villebois-Mareuil, 75017 Paris</td>\n",
       "    </tr>\n",
       "  </tbody>\n",
       "</table>\n",
       "<p>100 rows × 6 columns</p>\n",
       "</div>"
      ],
      "text/plain": [
       "                          station     usage  total_bikes  \\\n",
       "0   Benjamin Godard - Victor Hugo  0.942857           35   \n",
       "1   Benjamin Godard - Victor Hugo  0.942857           35   \n",
       "2   Benjamin Godard - Victor Hugo  0.942857           35   \n",
       "3   Benjamin Godard - Victor Hugo  0.942857           35   \n",
       "4   Benjamin Godard - Victor Hugo  0.942857           35   \n",
       "..                            ...       ...          ...   \n",
       "95     Jouffroy d'Abbans - Wagram  0.714286           35   \n",
       "96     Jouffroy d'Abbans - Wagram  0.714286           35   \n",
       "97     Jouffroy d'Abbans - Wagram  0.714286           35   \n",
       "98     Jouffroy d'Abbans - Wagram  0.714286           35   \n",
       "99     Jouffroy d'Abbans - Wagram  0.714286           35   \n",
       "\n",
       "                                   poi_name  poi_distance  \\\n",
       "0                          Square Lamartine            94   \n",
       "1                                     Axxia           185   \n",
       "2                        Place du Trocadéro           906   \n",
       "3                                 Bs Design           548   \n",
       "4                        Jardin du Ranelagh           968   \n",
       "..                                      ...           ...   \n",
       "95  Clinique Internationale du Parc Monceau           322   \n",
       "96      Chirurgie de la Main et de l'épaule           336   \n",
       "97                     Gazon Synthétique 24           527   \n",
       "98                              Café Marion           829   \n",
       "99                         Production 3 ADC           608   \n",
       "\n",
       "                                          poi_address  \n",
       "0                     3 Square Lamartine, 75016 Paris  \n",
       "1              116 rue de la Faisanderie, 75116 Paris  \n",
       "2   19 place du Trocadéro et du Onze Novembre, 750...  \n",
       "3                        16 rue Spontini, 75116 Paris  \n",
       "4                     avenue du Ranelagh, 75016 Paris  \n",
       "..                                                ...  \n",
       "95            21 rue de Chazelles, 21-23, 75017 Paris  \n",
       "96            92 boulevard de Courcelles, 75017 Paris  \n",
       "97                          rue de Prony, 75017 Paris  \n",
       "98                 8 avenue de Friedland, 75008 Paris  \n",
       "99               9 rue Villebois-Mareuil, 75017 Paris  \n",
       "\n",
       "[100 rows x 6 columns]"
      ]
     },
     "execution_count": 28,
     "metadata": {},
     "output_type": "execute_result"
    }
   ],
   "source": [
    "df_fspoi\n"
   ]
  },
  {
   "cell_type": "code",
   "execution_count": 29,
   "metadata": {},
   "outputs": [],
   "source": [
    "# I'm saving the dataframe to CSV for the next section\n",
    "df_fspoi.to_csv('../data/fsq_poi.csv', index=False)\n"
   ]
  },
  {
   "cell_type": "code",
   "execution_count": 30,
   "metadata": {},
   "outputs": [
    {
     "data": {
      "text/plain": [
       "(100, 6)"
      ]
     },
     "execution_count": 30,
     "metadata": {},
     "output_type": "execute_result"
    }
   ],
   "source": [
    "df_fspoi.shape\n"
   ]
  },
  {
   "cell_type": "code",
   "execution_count": 31,
   "metadata": {},
   "outputs": [
    {
     "data": {
      "text/plain": [
       "<bound method DataFrame.info of                           station     usage  total_bikes  \\\n",
       "0   Benjamin Godard - Victor Hugo  0.942857           35   \n",
       "1   Benjamin Godard - Victor Hugo  0.942857           35   \n",
       "2   Benjamin Godard - Victor Hugo  0.942857           35   \n",
       "3   Benjamin Godard - Victor Hugo  0.942857           35   \n",
       "4   Benjamin Godard - Victor Hugo  0.942857           35   \n",
       "..                            ...       ...          ...   \n",
       "95     Jouffroy d'Abbans - Wagram  0.714286           35   \n",
       "96     Jouffroy d'Abbans - Wagram  0.714286           35   \n",
       "97     Jouffroy d'Abbans - Wagram  0.714286           35   \n",
       "98     Jouffroy d'Abbans - Wagram  0.714286           35   \n",
       "99     Jouffroy d'Abbans - Wagram  0.714286           35   \n",
       "\n",
       "                                   poi_name  poi_distance  \\\n",
       "0                          Square Lamartine            94   \n",
       "1                                     Axxia           185   \n",
       "2                        Place du Trocadéro           906   \n",
       "3                                 Bs Design           548   \n",
       "4                        Jardin du Ranelagh           968   \n",
       "..                                      ...           ...   \n",
       "95  Clinique Internationale du Parc Monceau           322   \n",
       "96      Chirurgie de la Main et de l'épaule           336   \n",
       "97                     Gazon Synthétique 24           527   \n",
       "98                              Café Marion           829   \n",
       "99                         Production 3 ADC           608   \n",
       "\n",
       "                                          poi_address  \n",
       "0                     3 Square Lamartine, 75016 Paris  \n",
       "1              116 rue de la Faisanderie, 75116 Paris  \n",
       "2   19 place du Trocadéro et du Onze Novembre, 750...  \n",
       "3                        16 rue Spontini, 75116 Paris  \n",
       "4                     avenue du Ranelagh, 75016 Paris  \n",
       "..                                                ...  \n",
       "95            21 rue de Chazelles, 21-23, 75017 Paris  \n",
       "96            92 boulevard de Courcelles, 75017 Paris  \n",
       "97                          rue de Prony, 75017 Paris  \n",
       "98                 8 avenue de Friedland, 75008 Paris  \n",
       "99               9 rue Villebois-Mareuil, 75017 Paris  \n",
       "\n",
       "[100 rows x 6 columns]>"
      ]
     },
     "execution_count": 31,
     "metadata": {},
     "output_type": "execute_result"
    }
   ],
   "source": [
    "df_fspoi.info\n"
   ]
  },
  {
   "cell_type": "code",
   "execution_count": 32,
   "metadata": {},
   "outputs": [
    {
     "name": "stdout",
     "output_type": "stream",
     "text": [
      "<class 'pandas.core.frame.DataFrame'>\n",
      "RangeIndex: 100 entries, 0 to 99\n",
      "Data columns (total 6 columns):\n",
      " #   Column        Non-Null Count  Dtype  \n",
      "---  ------        --------------  -----  \n",
      " 0   station       100 non-null    object \n",
      " 1   usage         100 non-null    float64\n",
      " 2   total_bikes   100 non-null    int64  \n",
      " 3   poi_name      100 non-null    object \n",
      " 4   poi_distance  100 non-null    int64  \n",
      " 5   poi_address   100 non-null    object \n",
      "dtypes: float64(1), int64(2), object(3)\n",
      "memory usage: 4.8+ KB\n"
     ]
    }
   ],
   "source": [
    "df_fspoi.info()\n"
   ]
  },
  {
   "cell_type": "markdown",
   "metadata": {},
   "source": [
    "Checking for Null Values\n"
   ]
  },
  {
   "cell_type": "code",
   "execution_count": 33,
   "metadata": {},
   "outputs": [
    {
     "name": "stdout",
     "output_type": "stream",
     "text": [
      "station         0\n",
      "usage           0\n",
      "total_bikes     0\n",
      "poi_name        0\n",
      "poi_distance    0\n",
      "poi_address     0\n",
      "dtype: int64\n"
     ]
    }
   ],
   "source": [
    "print(df_fspoi.isnull().sum())\n"
   ]
  },
  {
   "cell_type": "markdown",
   "metadata": {},
   "source": [
    "# Yelp\n"
   ]
  },
  {
   "cell_type": "markdown",
   "metadata": {},
   "source": [
    "Send a request to Yelp with a small radius (1000m) for all the bike stations in your city of choice.\n"
   ]
  },
  {
   "cell_type": "code",
   "execution_count": 34,
   "metadata": {},
   "outputs": [],
   "source": [
    "def get_nearby_yelp(latitude, longitude):\n",
    "\n",
    "    # Define my API Key, My Endpoint, and My Header\n",
    "    API_KEY = os.getenv('YELP_key')\n",
    "    ENDPOINT = 'https://api.yelp.com/v3/businesses/search'\n",
    "    HEADERS = {'Authorization': 'bearer %s' % API_KEY}\n",
    "\n",
    "    # BUSINESS SEARCH PARAMETERS\n",
    "    PARAMETERS = {'latitude': f\"{latitude}\",\n",
    "                  'longitude': f\"{longitude}\",\n",
    "                  'radius': 1000}\n",
    "\n",
    "    # Make a request to the Yelp API\n",
    "    response = requests.get(url=ENDPOINT,\n",
    "                            params=PARAMETERS,\n",
    "                            headers=HEADERS)\n",
    "\n",
    "    yelp_data = response.json()\n",
    "\n",
    "    return yelp_data\n"
   ]
  },
  {
   "cell_type": "markdown",
   "metadata": {},
   "source": [
    "Parse through the response to get the POI (such as restaurants, bars, etc) details you want (ratings, name, location, etc)\n"
   ]
  },
  {
   "cell_type": "code",
   "execution_count": 36,
   "metadata": {},
   "outputs": [
    {
     "name": "stderr",
     "output_type": "stream",
     "text": [
      "Processing Stations:   0%|          | 0/1461 [00:00<?, ?it/s]"
     ]
    },
    {
     "name": "stderr",
     "output_type": "stream",
     "text": [
      "Processing Stations: 100%|██████████| 1461/1461 [05:49<00:00,  4.18it/s]\n"
     ]
    }
   ],
   "source": [
    "from tqdm import tqdm\n",
    "\n",
    "def collect_nearby_yelp_poi_data(stations_df, max_responses=None):\n",
    "    columns = ['station', 'usage', 'total_bikes', 'poi_name', 'poi_distance', 'poi_address']\n",
    "    collected_data = []\n",
    "\n",
    "    for _, station in tqdm(stations_df.iterrows(), total=stations_df.shape[0], desc=\"Processing Stations\"):\n",
    "        try:\n",
    "            yelp_response = get_nearby_yelp(station['latitude'], station['longitude'])\n",
    "\n",
    "            if 'businesses' in yelp_response:\n",
    "                for business in yelp_response['businesses']:\n",
    "                    collected_data.append([\n",
    "                        station['name'], \n",
    "                        station['usage_percentage'], \n",
    "                        station['total_bikes'], \n",
    "                        business['name'], \n",
    "                        business['distance'], \n",
    "                        business['location']['address1']\n",
    "                    ])\n",
    "\n",
    "                    if max_responses and len(collected_data) >= max_responses:\n",
    "                        return pd.DataFrame(collected_data, columns=columns)\n",
    "\n",
    "            # else: # Uncomment for warnings\n",
    "            #     print(f\"Warning: No 'businesses' key in response for station {station['name']}\")\n",
    "\n",
    "        except Exception as e:\n",
    "            pass # Placeholder for handling exceptions, replace with logging if needed\n",
    "\n",
    "    return pd.DataFrame(collected_data, columns=columns)\n",
    "\n",
    "# Limit to 100 responses\n",
    "df_yelp_poi = collect_nearby_yelp_poi_data(stations_df, max_responses=100)\n"
   ]
  },
  {
   "cell_type": "code",
   "execution_count": null,
   "metadata": {},
   "outputs": [],
   "source": [
    "df_yelp_poi.shape\n"
   ]
  },
  {
   "cell_type": "code",
   "execution_count": null,
   "metadata": {},
   "outputs": [],
   "source": [
    "df_yelp_poi.info\n"
   ]
  },
  {
   "cell_type": "markdown",
   "metadata": {},
   "source": [
    "### Data cleaning - checking for null values\n"
   ]
  },
  {
   "cell_type": "code",
   "execution_count": null,
   "metadata": {},
   "outputs": [],
   "source": [
    "print(df_yelp_poi.isnull().sum())\n"
   ]
  },
  {
   "cell_type": "markdown",
   "metadata": {},
   "source": [
    "Put your parsed results into a DataFrame\n"
   ]
  },
  {
   "cell_type": "code",
   "execution_count": null,
   "metadata": {
    "scrolled": true
   },
   "outputs": [],
   "source": [
    "df_yelp_poi\n"
   ]
  },
  {
   "cell_type": "code",
   "execution_count": null,
   "metadata": {},
   "outputs": [],
   "source": [
    "# Save dataframe to CSV\n",
    "df_yelp_poi.to_csv('../data/yelp_poi.csv', index=False)\n"
   ]
  },
  {
   "cell_type": "markdown",
   "metadata": {},
   "source": [
    "# Comparing Results\n"
   ]
  },
  {
   "cell_type": "markdown",
   "metadata": {},
   "source": [
    "Yelp tend to be more generous. \n"
   ]
  },
  {
   "cell_type": "markdown",
   "metadata": {},
   "source": [
    "Get the top 10 restaurants according to their rating\n"
   ]
  },
  {
   "cell_type": "code",
   "execution_count": null,
   "metadata": {},
   "outputs": [],
   "source": [
    "# Define constants\n",
    "YELP_API_KEY = os.getenv('YELP_key')\n",
    "YELP_API_URL = \"https://api.yelp.com/v3/businesses/search\"\n",
    "RESULTS_LIMIT = 20\n",
    "RADIUS_METERS = 1000  # Set the radius to 1000 meters\n",
    "\n",
    "\n",
    "def get_top_restaurants_and_poi(location, api_key):\n",
    "    headers = {\n",
    "        'Authorization': f'Bearer {api_key}'\n",
    "    }\n",
    "\n",
    "    # Define common parameters\n",
    "    common_params = {\n",
    "        'location': location,\n",
    "        'limit': RESULTS_LIMIT,\n",
    "        'open_now': True,\n",
    "        'radius': RADIUS_METERS  # Add the 'radius' parameter with the specified value\n",
    "    }\n",
    "\n",
    "    # Define separate parameters for restaurants and POI\n",
    "    restaurant_params = {\n",
    "        'term': 'restaurants',\n",
    "        **common_params\n",
    "    }\n",
    "\n",
    "    poi_params = {\n",
    "        'term': 'points of interest',\n",
    "        **common_params\n",
    "    }\n",
    "\n",
    "    try:\n",
    "        # Retrieve top-rated restaurants\n",
    "        response_restaurants = requests.get(\n",
    "            YELP_API_URL, headers=headers, params=restaurant_params)\n",
    "        response_restaurants.raise_for_status()\n",
    "\n",
    "        data = response_restaurants.json()\n",
    "        restaurants = data.get('businesses', [])\n",
    "\n",
    "        # Sort restaurants by rating, descending\n",
    "        top_restaurants = sorted(\n",
    "            restaurants, key=lambda x: x.get('rating', 0), reverse=True)\n",
    "\n",
    "        # Create a DataFrame for restaurants\n",
    "        restaurant_df = pd.DataFrame(top_restaurants[:RESULTS_LIMIT])\n",
    "        restaurant_df = restaurant_df[['name', 'rating', 'coordinates']]\n",
    "\n",
    "        # Extract 'latitude' and 'longitude' from the 'coordinates' column\n",
    "        restaurant_df['latitude'] = restaurant_df['coordinates'].apply(\n",
    "            lambda x: x['latitude'])\n",
    "        restaurant_df['longitude'] = restaurant_df['coordinates'].apply(\n",
    "            lambda x: x['longitude'])\n",
    "\n",
    "        # Save restaurant_df as CSV if needed\n",
    "        # restaurant_csv_file_path = '../data/restaurant_data.csv'\n",
    "        # restaurant_df.to_csv(restaurant_csv_file_path, index=False)\n",
    "\n",
    "        # Retrieve top-rated POI\n",
    "        response_poi = requests.get(\n",
    "            YELP_API_URL, headers=headers, params=poi_params)\n",
    "        response_poi.raise_for_status()\n",
    "\n",
    "        data = response_poi.json()\n",
    "        raw_poi = data.get('businesses', [])\n",
    "\n",
    "        # Create a DataFrame for POI\n",
    "        raw_poi_df = pd.DataFrame(raw_poi[:RESULTS_LIMIT])\n",
    "        raw_poi_df = raw_poi_df[['name', 'rating', 'coordinates']]\n",
    "\n",
    "        # Extract 'latitude' and 'longitude' from the 'coordinates' column\n",
    "        raw_poi_df['latitude'] = raw_poi_df['coordinates'].apply(\n",
    "            lambda x: x['latitude'])\n",
    "        raw_poi_df['longitude'] = raw_poi_df['coordinates'].apply(\n",
    "            lambda x: x['longitude'])\n",
    "\n",
    "        # Drop the 'coordinates' column from raw_poi_df\n",
    "        raw_poi_df.drop('coordinates', axis=1, inplace=True)\n",
    "\n",
    "        # Concatenate raw_poi_df and restaurant_df into poi_df\n",
    "        poi_df = pd.concat([raw_poi_df, restaurant_df], ignore_index=True)\n",
    "\n",
    "        # Save poi_df as CSV\n",
    "        csv_file_path = '../data/poi_data.csv'\n",
    "        poi_df.to_csv(csv_file_path, index=False)\n",
    "\n",
    "        return restaurant_df  # Return restaurant_df\n",
    "\n",
    "    except requests.exceptions.RequestException as e:\n",
    "        print(f\"An error occurred: {e}\")\n",
    "\n",
    "\n",
    "# Example usage\n",
    "location = 'Paris'\n",
    "# Assign the returned DataFrame to restaurant_df\n",
    "restaurant_df = get_top_restaurants_and_poi(location, YELP_API_KEY)\n"
   ]
  },
  {
   "cell_type": "code",
   "execution_count": null,
   "metadata": {},
   "outputs": [],
   "source": [
    "# View the first 10 restaurants with only 'name' and 'rating' columns\n",
    "print(\"Top 10 Restaurants:\")\n",
    "for idx, row in restaurant_df.head(10).iterrows():\n",
    "    name = row['name']\n",
    "    rating = row['rating']\n",
    "    # Use str.ljust to left-align the numbers with a width of 2\n",
    "    idx_str = str(idx + 1).ljust(2)\n",
    "    print(f\"{idx_str}. Name: {name}, Rating: {rating:.1f}\")\n"
   ]
  },
  {
   "cell_type": "markdown",
   "metadata": {},
   "source": [
    "Top 10 Restaurants:\n",
    "1 . Name: Grand Hôtel du Palais Royal, Rating: 4.5\n",
    "2 . Name: De Voltaire à Rousseau, Rating: 4.5\n",
    "3 . Name: Grand Bay Café, Rating: 4.5\n",
    "4 . Name: La Tour de Montlhéry ou chez Denise, Rating: 4.0\n",
    "5 . Name: Le Terminus du Châtelet, Rating: 4.0\n",
    "6 . Name: Au Pied de Cochon, Rating: 3.5\n",
    "7 . Name: Le Tambour, Rating: 3.5\n",
    "8 . Name: Chacha, Rating: 3.0\n",
    "9 . Name: Le Départ Saint Michel, Rating: 3.0 10. Name: Le Buci, Rating: 3.0\n"
   ]
  }
 ],
 "metadata": {
  "kernelspec": {
   "display_name": "Python 3 (ipykernel)",
   "language": "python",
   "name": "python3"
  },
  "language_info": {
   "codemirror_mode": {
    "name": "ipython",
    "version": 3
   },
   "file_extension": ".py",
   "mimetype": "text/x-python",
   "name": "python",
   "nbconvert_exporter": "python",
   "pygments_lexer": "ipython3",
   "version": "3.12.1"
  }
 },
 "nbformat": 4,
 "nbformat_minor": 4
}
